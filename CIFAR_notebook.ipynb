{
 "cells": [
  {
   "cell_type": "code",
   "execution_count": 1,
   "id": "1aed1764",
   "metadata": {},
   "outputs": [],
   "source": [
    "import torch \n",
    "import torch.nn as nn\n",
    "import matplotlib.pyplot as plt\n",
    "import numpy as np\n",
    "import torchvision\n",
    "from torchvision import datasets\n",
    "from torchvision.transforms import ToTensor\n",
    "from torch.utils.data import DataLoader\n",
    "from sklearn.metrics import accuracy_score\n",
    "from timeit import default_timer as timer\n",
    "from tqdm.auto import tqdm\n",
    "import random"
   ]
  },
  {
   "cell_type": "code",
   "execution_count": 2,
   "id": "0a4474b1",
   "metadata": {},
   "outputs": [
    {
     "name": "stdout",
     "output_type": "stream",
     "text": [
      "Files already downloaded and verified\n",
      "Files already downloaded and verified\n"
     ]
    }
   ],
   "source": [
    "train_data = torchvision.datasets.CIFAR10(\n",
    "    root=\"data\", \n",
    "    train=True, \n",
    "    download=True, \n",
    "    transform=ToTensor(), \n",
    "    target_transform=None \n",
    ")\n",
    "\n",
    "# Setup testing data\n",
    "test_data = torchvision.datasets.CIFAR10(\n",
    "    root=\"data\",\n",
    "    train=False, \n",
    "    download=True,\n",
    "    transform=ToTensor()\n",
    ")"
   ]
  },
  {
   "cell_type": "code",
   "execution_count": 3,
   "id": "fc222a46",
   "metadata": {},
   "outputs": [
    {
     "data": {
      "text/plain": [
       "Dataset CIFAR10\n",
       "    Number of datapoints: 50000\n",
       "    Root location: data\n",
       "    Split: Train\n",
       "    StandardTransform\n",
       "Transform: ToTensor()"
      ]
     },
     "execution_count": 3,
     "metadata": {},
     "output_type": "execute_result"
    }
   ],
   "source": [
    "train_data"
   ]
  },
  {
   "cell_type": "code",
   "execution_count": 4,
   "id": "0f28ed02",
   "metadata": {},
   "outputs": [
    {
     "data": {
      "text/plain": [
       "2"
      ]
     },
     "execution_count": 4,
     "metadata": {},
     "output_type": "execute_result"
    }
   ],
   "source": [
    "len(train_data[0])"
   ]
  },
  {
   "cell_type": "code",
   "execution_count": 5,
   "id": "bb657e55",
   "metadata": {},
   "outputs": [],
   "source": [
    "#train_data[0] --> (tensor(image),label)"
   ]
  },
  {
   "cell_type": "code",
   "execution_count": 6,
   "id": "ebb0086a",
   "metadata": {},
   "outputs": [],
   "source": [
    "image,label=train_data[0]"
   ]
  },
  {
   "cell_type": "code",
   "execution_count": 7,
   "id": "6a641ca2",
   "metadata": {},
   "outputs": [
    {
     "data": {
      "text/plain": [
       "torch.Size([3, 32, 32])"
      ]
     },
     "execution_count": 7,
     "metadata": {},
     "output_type": "execute_result"
    }
   ],
   "source": [
    "image.shape  # shape of every image=(32,32)"
   ]
  },
  {
   "cell_type": "code",
   "execution_count": 8,
   "id": "c56824ea",
   "metadata": {},
   "outputs": [
    {
     "data": {
      "text/plain": [
       "{'airplane': 0,\n",
       " 'automobile': 1,\n",
       " 'bird': 2,\n",
       " 'cat': 3,\n",
       " 'deer': 4,\n",
       " 'dog': 5,\n",
       " 'frog': 6,\n",
       " 'horse': 7,\n",
       " 'ship': 8,\n",
       " 'truck': 9}"
      ]
     },
     "execution_count": 8,
     "metadata": {},
     "output_type": "execute_result"
    }
   ],
   "source": [
    "train_data.class_to_idx"
   ]
  },
  {
   "cell_type": "code",
   "execution_count": 9,
   "id": "827e88ce",
   "metadata": {},
   "outputs": [
    {
     "data": {
      "text/plain": [
       "torch.Size([3, 32, 32])"
      ]
     },
     "execution_count": 9,
     "metadata": {},
     "output_type": "execute_result"
    }
   ],
   "source": [
    "image.shape"
   ]
  },
  {
   "cell_type": "code",
   "execution_count": 10,
   "id": "afa62835",
   "metadata": {},
   "outputs": [
    {
     "data": {
      "image/png": "[encoded data removed]",
      "text/plain": [
       "<Figure size 640x480 with 1 Axes>"
      ]
     },
     "metadata": {},
     "output_type": "display_data"
    }
   ],
   "source": [
    "img,label=train_data[random.randint(1,50000)]\n",
    "plt.imshow(img.permute(1,2,0))\n",
    "plt.title(train_data.classes[label])\n",
    "plt.show()"
   ]
  },
  {
   "cell_type": "code",
   "execution_count": 11,
   "id": "71a6a13f",
   "metadata": {},
   "outputs": [],
   "source": [
    "batch_size=32\n",
    "train_dataloader=DataLoader(train_data,batch_size=batch_size,shuffle=True)\n",
    "test_dataloader=DataLoader(test_data,batch_size=batch_size)"
   ]
  },
  {
   "cell_type": "code",
   "execution_count": 12,
   "id": "62f0719a",
   "metadata": {},
   "outputs": [
    {
     "data": {
      "text/plain": [
       "<torch.utils.data.dataloader.DataLoader at 0x1561934c0>"
      ]
     },
     "execution_count": 12,
     "metadata": {},
     "output_type": "execute_result"
    }
   ],
   "source": [
    "train_dataloader"
   ]
  },
  {
   "cell_type": "code",
   "execution_count": 13,
   "id": "826ceb84",
   "metadata": {},
   "outputs": [
    {
     "data": {
      "text/plain": [
       "(1563, 313)"
      ]
     },
     "execution_count": 13,
     "metadata": {},
     "output_type": "execute_result"
    }
   ],
   "source": [
    "len(train_dataloader),len(test_dataloader)"
   ]
  },
  {
   "cell_type": "code",
   "execution_count": 14,
   "id": "d443931c",
   "metadata": {},
   "outputs": [
    {
     "data": {
      "text/plain": [
       "32"
      ]
     },
     "execution_count": 14,
     "metadata": {},
     "output_type": "execute_result"
    }
   ],
   "source": [
    "train_dataloader.batch_size"
   ]
  },
  {
   "cell_type": "code",
   "execution_count": 15,
   "id": "552cd7a6",
   "metadata": {},
   "outputs": [
    {
     "data": {
      "text/plain": [
       "[tensor([[[[0.2902, 0.2471, 0.2471,  ..., 0.1451, 0.1569, 0.1412],\n",
       "           [0.2706, 0.2235, 0.2118,  ..., 0.1373, 0.1137, 0.0902],\n",
       "           [0.2745, 0.2471, 0.2157,  ..., 0.0784, 0.0941, 0.1255],\n",
       "           ...,\n",
       "           [0.4078, 0.4275, 0.4392,  ..., 0.2863, 0.2706, 0.2353],\n",
       "           [0.3922, 0.4314, 0.4275,  ..., 0.3255, 0.2941, 0.2627],\n",
       "           [0.3922, 0.4157, 0.3882,  ..., 0.2824, 0.2667, 0.2667]],\n",
       " \n",
       "          [[0.3529, 0.3255, 0.3176,  ..., 0.1686, 0.1804, 0.1686],\n",
       "           [0.3333, 0.3020, 0.2980,  ..., 0.1647, 0.1529, 0.1255],\n",
       "           [0.3176, 0.3059, 0.3020,  ..., 0.1216, 0.1569, 0.1922],\n",
       "           ...,\n",
       "           [0.4039, 0.4235, 0.4392,  ..., 0.3686, 0.3647, 0.3412],\n",
       "           [0.3882, 0.4275, 0.4275,  ..., 0.3843, 0.3686, 0.3529],\n",
       "           [0.3882, 0.4118, 0.3882,  ..., 0.3765, 0.3608, 0.3647]],\n",
       " \n",
       "          [[0.1216, 0.1020, 0.1216,  ..., 0.0667, 0.0706, 0.0510],\n",
       "           [0.1255, 0.0863, 0.0824,  ..., 0.0431, 0.0314, 0.0275],\n",
       "           [0.1373, 0.1216, 0.0824,  ..., 0.0157, 0.0314, 0.0471],\n",
       "           ...,\n",
       "           [0.3961, 0.4157, 0.4314,  ..., 0.1020, 0.0863, 0.0588],\n",
       "           [0.3804, 0.4196, 0.4196,  ..., 0.1373, 0.1137, 0.0902],\n",
       "           [0.3804, 0.4039, 0.3804,  ..., 0.1059, 0.0902, 0.0902]]],\n",
       " \n",
       " \n",
       "         [[[0.6196, 0.6118, 0.6275,  ..., 0.5176, 0.4745, 0.4784],\n",
       "           [0.5176, 0.5569, 0.5765,  ..., 0.5059, 0.4863, 0.4941],\n",
       "           [0.5725, 0.5922, 0.5882,  ..., 0.5176, 0.5529, 0.5608],\n",
       "           ...,\n",
       "           [0.5843, 0.5333, 0.4745,  ..., 0.5451, 0.5020, 0.5059],\n",
       "           [0.5608, 0.5412, 0.4902,  ..., 0.5843, 0.5490, 0.5608],\n",
       "           [0.5333, 0.5725, 0.5765,  ..., 0.5529, 0.5412, 0.5412]],\n",
       " \n",
       "          [[0.6235, 0.6275, 0.6471,  ..., 0.5216, 0.4784, 0.4941],\n",
       "           [0.5216, 0.5725, 0.5961,  ..., 0.5098, 0.4902, 0.5059],\n",
       "           [0.5843, 0.6000, 0.6000,  ..., 0.5255, 0.5569, 0.5647],\n",
       "           ...,\n",
       "           [0.5922, 0.5412, 0.4784,  ..., 0.5569, 0.5216, 0.5216],\n",
       "           [0.5804, 0.5529, 0.4980,  ..., 0.6000, 0.5686, 0.5804],\n",
       "           [0.5608, 0.5922, 0.5961,  ..., 0.5686, 0.5569, 0.5569]],\n",
       " \n",
       "          [[0.6039, 0.6078, 0.6235,  ..., 0.4980, 0.4588, 0.4902],\n",
       "           [0.5020, 0.5490, 0.5686,  ..., 0.4902, 0.4706, 0.4980],\n",
       "           [0.5804, 0.5804, 0.5608,  ..., 0.5059, 0.5412, 0.5608],\n",
       "           ...,\n",
       "           [0.5333, 0.4863, 0.4471,  ..., 0.5608, 0.5059, 0.5176],\n",
       "           [0.5255, 0.5098, 0.4627,  ..., 0.6039, 0.5490, 0.5451],\n",
       "           [0.4980, 0.5569, 0.5608,  ..., 0.5608, 0.5451, 0.5373]]],\n",
       " \n",
       " \n",
       "         [[[0.2078, 0.2510, 0.3961,  ..., 0.4941, 0.4510, 0.4706],\n",
       "           [0.2353, 0.2118, 0.2667,  ..., 0.4314, 0.4471, 0.5137],\n",
       "           [0.3176, 0.3020, 0.2588,  ..., 0.4235, 0.4667, 0.4510],\n",
       "           ...,\n",
       "           [0.5137, 0.4784, 0.4667,  ..., 0.6000, 0.6471, 0.6078],\n",
       "           [0.4784, 0.4824, 0.4863,  ..., 0.4941, 0.4980, 0.5098],\n",
       "           [0.4824, 0.4863, 0.4745,  ..., 0.4863, 0.4902, 0.4941]],\n",
       " \n",
       "          [[0.1765, 0.2353, 0.4392,  ..., 0.5059, 0.4824, 0.4863],\n",
       "           [0.1882, 0.2000, 0.3255,  ..., 0.4627, 0.5059, 0.5529],\n",
       "           [0.2549, 0.2588, 0.2745,  ..., 0.4588, 0.5255, 0.4902],\n",
       "           ...,\n",
       "           [0.5255, 0.4902, 0.4745,  ..., 0.5529, 0.5961, 0.5608],\n",
       "           [0.4784, 0.4863, 0.4902,  ..., 0.4824, 0.4863, 0.4980],\n",
       "           [0.4824, 0.4863, 0.4745,  ..., 0.4902, 0.4941, 0.4941]],\n",
       " \n",
       "          [[0.1843, 0.2196, 0.3961,  ..., 0.4314, 0.4118, 0.4314],\n",
       "           [0.1922, 0.1804, 0.2706,  ..., 0.3843, 0.4275, 0.4902],\n",
       "           [0.2549, 0.2392, 0.2235,  ..., 0.3765, 0.4471, 0.4275],\n",
       "           ...,\n",
       "           [0.4627, 0.4275, 0.4157,  ..., 0.4980, 0.5451, 0.5098],\n",
       "           [0.4627, 0.4667, 0.4706,  ..., 0.4667, 0.4667, 0.4784],\n",
       "           [0.4863, 0.4941, 0.4784,  ..., 0.4941, 0.4980, 0.5020]]],\n",
       " \n",
       " \n",
       "         ...,\n",
       " \n",
       " \n",
       "         [[[0.9059, 0.8941, 0.8941,  ..., 0.8549, 0.8588, 0.8627],\n",
       "           [0.8941, 0.8863, 0.8824,  ..., 0.8431, 0.8471, 0.8510],\n",
       "           [0.8863, 0.8784, 0.8745,  ..., 0.8353, 0.8392, 0.8431],\n",
       "           ...,\n",
       "           [0.8039, 0.7882, 0.7765,  ..., 0.7765, 0.7882, 0.8000],\n",
       "           [0.8078, 0.7961, 0.7804,  ..., 0.7804, 0.7922, 0.8039],\n",
       "           [0.8078, 0.7961, 0.7843,  ..., 0.7843, 0.7961, 0.8078]],\n",
       " \n",
       "          [[0.9098, 0.8980, 0.8902,  ..., 0.8588, 0.8627, 0.8667],\n",
       "           [0.8980, 0.8863, 0.8784,  ..., 0.8471, 0.8510, 0.8549],\n",
       "           [0.8902, 0.8784, 0.8706,  ..., 0.8353, 0.8392, 0.8471],\n",
       "           ...,\n",
       "           [0.8078, 0.7922, 0.7804,  ..., 0.7882, 0.8000, 0.8118],\n",
       "           [0.8118, 0.8000, 0.7843,  ..., 0.7922, 0.8039, 0.8157],\n",
       "           [0.8157, 0.8039, 0.7922,  ..., 0.8000, 0.8118, 0.8235]],\n",
       " \n",
       "          [[0.8902, 0.8784, 0.8706,  ..., 0.8353, 0.8392, 0.8431],\n",
       "           [0.8784, 0.8667, 0.8588,  ..., 0.8235, 0.8275, 0.8314],\n",
       "           [0.8706, 0.8588, 0.8510,  ..., 0.8157, 0.8157, 0.8235],\n",
       "           ...,\n",
       "           [0.7882, 0.7725, 0.7569,  ..., 0.7608, 0.7725, 0.7843],\n",
       "           [0.7922, 0.7765, 0.7608,  ..., 0.7647, 0.7765, 0.7882],\n",
       "           [0.7961, 0.7843, 0.7686,  ..., 0.7725, 0.7843, 0.7961]]],\n",
       " \n",
       " \n",
       "         [[[0.3333, 0.2510, 0.1020,  ..., 0.7804, 0.5490, 0.3333],\n",
       "           [0.5922, 0.3686, 0.0980,  ..., 0.6706, 0.6235, 0.3922],\n",
       "           [0.7961, 0.6000, 0.2784,  ..., 0.5804, 0.4824, 0.2392],\n",
       "           ...,\n",
       "           [0.1412, 0.1490, 0.1647,  ..., 0.2000, 0.1765, 0.1765],\n",
       "           [0.1569, 0.1529, 0.1216,  ..., 0.1686, 0.1490, 0.1412],\n",
       "           [0.0980, 0.0667, 0.0549,  ..., 0.2235, 0.2275, 0.2000]],\n",
       " \n",
       "          [[0.3451, 0.2275, 0.1373,  ..., 0.6784, 0.4941, 0.3451],\n",
       "           [0.6353, 0.4078, 0.1373,  ..., 0.5804, 0.5490, 0.4000],\n",
       "           [0.8431, 0.6549, 0.3176,  ..., 0.4902, 0.4157, 0.2392],\n",
       "           ...,\n",
       "           [0.1686, 0.1804, 0.1882,  ..., 0.2275, 0.2039, 0.1922],\n",
       "           [0.1725, 0.1725, 0.1412,  ..., 0.1922, 0.1765, 0.1608],\n",
       "           [0.1137, 0.0824, 0.0706,  ..., 0.1686, 0.1569, 0.1451]],\n",
       " \n",
       "          [[0.4314, 0.2941, 0.1686,  ..., 0.5020, 0.4118, 0.3804],\n",
       "           [0.7216, 0.4902, 0.1922,  ..., 0.4039, 0.4157, 0.4353],\n",
       "           [0.9020, 0.7255, 0.4000,  ..., 0.3176, 0.2863, 0.2392],\n",
       "           ...,\n",
       "           [0.1922, 0.2039, 0.2196,  ..., 0.2980, 0.2706, 0.2627],\n",
       "           [0.1922, 0.1882, 0.1569,  ..., 0.2667, 0.2392, 0.2157],\n",
       "           [0.1216, 0.0902, 0.0784,  ..., 0.2314, 0.2039, 0.1882]]],\n",
       " \n",
       " \n",
       "         [[[0.4588, 0.5255, 0.6235,  ..., 0.6353, 0.6196, 0.4549],\n",
       "           [0.4549, 0.5020, 0.5765,  ..., 0.5882, 0.5647, 0.4863],\n",
       "           [0.4157, 0.4353, 0.4588,  ..., 0.6118, 0.6000, 0.5686],\n",
       "           ...,\n",
       "           [0.4078, 0.4941, 0.5765,  ..., 0.5098, 0.4275, 0.3961],\n",
       "           [0.4588, 0.4431, 0.4353,  ..., 0.5216, 0.4549, 0.4039],\n",
       "           [0.4353, 0.4549, 0.4471,  ..., 0.5608, 0.5255, 0.4902]],\n",
       " \n",
       "          [[0.4078, 0.4745, 0.5725,  ..., 0.5843, 0.5765, 0.4078],\n",
       "           [0.4000, 0.4510, 0.5294,  ..., 0.5216, 0.4902, 0.4118],\n",
       "           [0.3608, 0.3882, 0.4118,  ..., 0.5412, 0.5216, 0.4902],\n",
       "           ...,\n",
       "           [0.3529, 0.4353, 0.5176,  ..., 0.4588, 0.3843, 0.3529],\n",
       "           [0.4078, 0.3961, 0.3882,  ..., 0.4706, 0.4118, 0.3608],\n",
       "           [0.3843, 0.4039, 0.4000,  ..., 0.5059, 0.4745, 0.4353]],\n",
       " \n",
       "          [[0.3373, 0.4039, 0.5137,  ..., 0.4431, 0.4157, 0.2627],\n",
       "           [0.3373, 0.3765, 0.4588,  ..., 0.4000, 0.3608, 0.2941],\n",
       "           [0.3059, 0.3059, 0.3216,  ..., 0.4353, 0.4118, 0.3961],\n",
       "           ...,\n",
       "           [0.2784, 0.3412, 0.3961,  ..., 0.3804, 0.3176, 0.2902],\n",
       "           [0.3333, 0.3059, 0.2941,  ..., 0.3882, 0.3490, 0.3059],\n",
       "           [0.3176, 0.3255, 0.3137,  ..., 0.4157, 0.4039, 0.3725]]]]),\n",
       " tensor([5, 4, 4, 4, 0, 2, 9, 1, 7, 7, 8, 3, 8, 4, 3, 7, 7, 4, 1, 7, 2, 1, 4, 1,\n",
       "         4, 4, 0, 0, 3, 0, 1, 6])]"
      ]
     },
     "execution_count": 15,
     "metadata": {},
     "output_type": "execute_result"
    }
   ],
   "source": [
    "next(iter(train_dataloader))"
   ]
  },
  {
   "cell_type": "code",
   "execution_count": 16,
   "id": "9b64147e",
   "metadata": {},
   "outputs": [
    {
     "data": {
      "text/plain": [
       "2"
      ]
     },
     "execution_count": 16,
     "metadata": {},
     "output_type": "execute_result"
    }
   ],
   "source": [
    "len(next(iter(train_dataloader)))"
   ]
  },
  {
   "cell_type": "code",
   "execution_count": 17,
   "id": "66c69df4",
   "metadata": {},
   "outputs": [
    {
     "data": {
      "text/plain": [
       "torch.Size([32, 3, 32, 32])"
      ]
     },
     "execution_count": 17,
     "metadata": {},
     "output_type": "execute_result"
    }
   ],
   "source": [
    "next(iter(train_dataloader))[0].shape    # 1 batch 32 images"
   ]
  },
  {
   "cell_type": "code",
   "execution_count": 18,
   "id": "93275cea",
   "metadata": {},
   "outputs": [
    {
     "data": {
      "text/plain": [
       "torch.Size([32])"
      ]
     },
     "execution_count": 18,
     "metadata": {},
     "output_type": "execute_result"
    }
   ],
   "source": [
    "next(iter(train_dataloader))[1].shape    # 32 labels"
   ]
  },
  {
   "cell_type": "code",
   "execution_count": 19,
   "id": "5a7be176",
   "metadata": {},
   "outputs": [],
   "source": [
    "class CIFAR10_VER1(nn.Module):\n",
    "    def __init__(self,input_shape,hidden_units,output_shape):\n",
    "        super().__init__()\n",
    "        self.layer_stack=nn.Sequential(\n",
    "        nn.Flatten(),\n",
    "        nn.Linear(in_features=input_shape, out_features=hidden_units),\n",
    "        nn.ReLU(),\n",
    "        nn.Linear(in_features=hidden_units, out_features=output_shape),\n",
    "        nn.ReLU()\n",
    "        )\n",
    "    def forward(self, x: torch.Tensor):\n",
    "        return self.layer_stack(x)"
   ]
  },
  {
   "cell_type": "code",
   "execution_count": 20,
   "id": "5c47cfb5",
   "metadata": {},
   "outputs": [
    {
     "data": {
      "text/plain": [
       "1024"
      ]
     },
     "execution_count": 20,
     "metadata": {},
     "output_type": "execute_result"
    }
   ],
   "source": [
    "32*32"
   ]
  },
  {
   "cell_type": "code",
   "execution_count": 21,
   "id": "00d07265",
   "metadata": {},
   "outputs": [],
   "source": [
    "model_1=CIFAR10_VER1(1024,10,len(test_data.classes)).to(\"mps\")"
   ]
  },
  {
   "cell_type": "code",
   "execution_count": 22,
   "id": "4b788d7f",
   "metadata": {},
   "outputs": [
    {
     "data": {
      "text/plain": [
       "CIFAR10_VER1(\n",
       "  (layer_stack): Sequential(\n",
       "    (0): Flatten(start_dim=1, end_dim=-1)\n",
       "    (1): Linear(in_features=1024, out_features=10, bias=True)\n",
       "    (2): ReLU()\n",
       "    (3): Linear(in_features=10, out_features=10, bias=True)\n",
       "    (4): ReLU()\n",
       "  )\n",
       ")"
      ]
     },
     "execution_count": 22,
     "metadata": {},
     "output_type": "execute_result"
    }
   ],
   "source": [
    "model_1"
   ]
  },
  {
   "cell_type": "code",
   "execution_count": 23,
   "id": "37c21f2f",
   "metadata": {},
   "outputs": [
    {
     "data": {
      "text/plain": [
       "device(type='mps', index=0)"
      ]
     },
     "execution_count": 23,
     "metadata": {},
     "output_type": "execute_result"
    }
   ],
   "source": [
    "next(model_1.parameters()).device"
   ]
  },
  {
   "cell_type": "code",
   "execution_count": 24,
   "id": "30163e2f",
   "metadata": {},
   "outputs": [],
   "source": [
    "loss_fn = nn.CrossEntropyLoss()\n",
    "optimizer = torch.optim.Adam(params=model_1.parameters(), \n",
    "                            lr=0.1)"
   ]
  },
  {
   "cell_type": "code",
   "execution_count": 25,
   "id": "9fd28131",
   "metadata": {},
   "outputs": [],
   "source": [
    "def train_step(model,data_loader,loss_fn,optimizer,accuracy_fn,device):\n",
    "    train_loss, train_acc = 0, 0\n",
    "    model.to(device)\n",
    "    for batch, (X, y) in enumerate(data_loader):\n",
    "        X, y = X.to(device), y.to(device)\n",
    "        y_pred=model(X)\n",
    "        loss=loss_fn(y_pred,y)\n",
    "        train_loss+=loss\n",
    "        train_acc += accuracy_fn(y_true=y,y_pred=y_pred.argmax(dim=1))\n",
    "        optimizer.zero_grad()\n",
    "        loss.backward()\n",
    "        optimizer.step()\n",
    "        train_loss /= len(data_loader)\n",
    "        train_acc /= len(data_loader)\n",
    "        print(f\"Train loss: {train_loss:.5f} | Train accuracy: {train_acc:.2f}%\")\n",
    "\n",
    "def test_step(data_loader,model,loss_fn,accuracy_fn,device):\n",
    "    test_loss, test_acc = 0, 0\n",
    "    model.to(device)\n",
    "    model.eval()\n",
    "    with torch.inference_mode(): \n",
    "        for X, y in data_loader:\n",
    "            X, y = X.to(device), y.to(device)\n",
    "            \n",
    "            test_pred = model(X)\n",
    "            \n",
    "            test_loss += loss_fn(test_pred, y)\n",
    "            test_acc += accuracy_fn(y_true=y,y_pred=test_pred.argmax(dim=1))\n",
    "        \n",
    "        test_loss /= len(data_loader)\n",
    "        test_acc /= len(data_loader)\n",
    "        print(f\"Test loss: {test_loss:.5f} | Test accuracy: {test_acc:.2f}%\\n\")"
   ]
  },
  {
   "cell_type": "code",
   "execution_count": null,
   "id": "07b6372d",
   "metadata": {},
   "outputs": [
    {
     "data": {
      "application/vnd.jupyter.widget-view+json": {
       "model_id": "eb3067bbfed84a7c9ca344bc1210ef59",
       "version_major": 2,
       "version_minor": 0
      },
      "text/plain": [
       "  0%|          | 0/3 [00:00<?, ?it/s]"
      ]
     },
     "metadata": {},
     "output_type": "display_data"
    }
   ],
   "source": [
    "torch.manual_seed(42)\n",
    "\n",
    "# Measure time\n",
    "from timeit import default_timer as timer\n",
    "train_time_start = timer()\n",
    "\n",
    "epochs = 3\n",
    "for epoch in tqdm(range(epochs)):\n",
    "    print(f\"Epoch: {epoch}\\n---------\")\n",
    "    train_step(data_loader=train_dataloader, \n",
    "        model=model_1, \n",
    "        loss_fn=loss_fn,\n",
    "        optimizer=optimizer,\n",
    "        accuracy_fn=accuracy_score,\n",
    "        device=\"mps\"\n",
    "    )\n",
    "    test_step(data_loader=test_dataloader,\n",
    "        model=model_1,\n",
    "        loss_fn=loss_fn,\n",
    "        accuracy_fn=accuracy_score\n",
    "    )\n",
    "\n",
    "train_time_end = timer()\n",
    "total_train_time_model_1 = print_train_time(start=train_time_start,\n",
    "                                            end=train_time_end,\n",
    "                                            device=\"mps\")"
   ]
  },
  {
   "cell_type": "code",
   "execution_count": null,
   "id": "de0150ae",
   "metadata": {},
   "outputs": [],
   "source": []
  }
 ],
 "metadata": {
  "kernelspec": {
   "display_name": "Python 3 (ipykernel)",
   "language": "python",
   "name": "python3"
  },
  "language_info": {
   "codemirror_mode": {
    "name": "ipython",
    "version": 3
   },
   "file_extension": ".py",
   "mimetype": "text/x-python",
   "name": "python",
   "nbconvert_exporter": "python",
   "pygments_lexer": "ipython3",
   "version": "3.8.16"
  }
 },
 "nbformat": 4,
 "nbformat_minor": 5
}
