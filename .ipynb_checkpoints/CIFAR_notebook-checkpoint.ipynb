{
 "cells": [
  {
   "cell_type": "markdown",
   "id": "4CHOxrkUYP-j",
   "metadata": {
    "id": "4CHOxrkUYP-j"
   },
   "source": [
    "## Preprocessing Data"
   ]
  },
  {
   "cell_type": "code",
   "execution_count": 1,
   "id": "1aed1764",
   "metadata": {
    "id": "1aed1764"
   },
   "outputs": [],
   "source": [
    "import torch\n",
    "import torch.nn as nn\n",
    "import matplotlib.pyplot as plt\n",
    "import numpy as np\n",
    "import torchvision\n",
    "from torchvision import datasets\n",
    "from torchvision.transforms import ToTensor\n",
    "from torch.utils.data import DataLoader\n",
    "from sklearn.metrics import accuracy_score\n",
    "from timeit import default_timer as timer\n",
    "from tqdm.auto import tqdm\n",
    "import random"
   ]
  },
  {
   "cell_type": "code",
   "execution_count": 2,
   "id": "0a4474b1",
   "metadata": {
    "colab": {
     "base_uri": "https://localhost:8080/"
    },
    "id": "0a4474b1",
    "outputId": "433307c1-c9b4-4d1f-efca-0357d3673458"
   },
   "outputs": [
    {
     "name": "stdout",
     "output_type": "stream",
     "text": [
      "Downloading https://www.cs.toronto.edu/~kriz/cifar-10-python.tar.gz to data/cifar-10-python.tar.gz\n"
     ]
    },
    {
     "name": "stderr",
     "output_type": "stream",
     "text": [
      "100%|██████████| 170498071/170498071 [00:15<00:00, 11118395.10it/s]\n"
     ]
    },
    {
     "name": "stdout",
     "output_type": "stream",
     "text": [
      "Extracting data/cifar-10-python.tar.gz to data\n",
      "Files already downloaded and verified\n"
     ]
    }
   ],
   "source": [
    "train_data = torchvision.datasets.CIFAR10(\n",
    "    root=\"data\",\n",
    "    train=True,\n",
    "    download=True,\n",
    "    transform=ToTensor(),\n",
    "    target_transform=None\n",
    ")\n",
    "\n",
    "# Setup testing data\n",
    "test_data = torchvision.datasets.CIFAR10(\n",
    "    root=\"data\",\n",
    "    train=False,\n",
    "    download=True,\n",
    "    transform=ToTensor()\n",
    ")"
   ]
  },
  {
   "cell_type": "code",
   "execution_count": 3,
   "id": "fc222a46",
   "metadata": {
    "colab": {
     "base_uri": "https://localhost:8080/"
    },
    "id": "fc222a46",
    "outputId": "bcdd1d7d-cfb8-483d-9787-dcfbed2f7339"
   },
   "outputs": [
    {
     "data": {
      "text/plain": [
       "Dataset CIFAR10\n",
       "    Number of datapoints: 50000\n",
       "    Root location: data\n",
       "    Split: Train\n",
       "    StandardTransform\n",
       "Transform: ToTensor()"
      ]
     },
     "execution_count": 3,
     "metadata": {},
     "output_type": "execute_result"
    }
   ],
   "source": [
    "train_data"
   ]
  },
  {
   "cell_type": "code",
   "execution_count": 4,
   "id": "0f28ed02",
   "metadata": {
    "colab": {
     "base_uri": "https://localhost:8080/"
    },
    "id": "0f28ed02",
    "outputId": "cc42a731-9d13-40f8-cbeb-5ef7503b230b"
   },
   "outputs": [
    {
     "data": {
      "text/plain": [
       "2"
      ]
     },
     "execution_count": 4,
     "metadata": {},
     "output_type": "execute_result"
    }
   ],
   "source": [
    "len(train_data[0])"
   ]
  },
  {
   "cell_type": "code",
   "execution_count": 5,
   "id": "bb657e55",
   "metadata": {
    "id": "bb657e55"
   },
   "outputs": [],
   "source": [
    "#train_data[0] --> (tensor(image),label)"
   ]
  },
  {
   "cell_type": "code",
   "execution_count": 6,
   "id": "ebb0086a",
   "metadata": {
    "id": "ebb0086a"
   },
   "outputs": [],
   "source": [
    "image,label=train_data[0]"
   ]
  },
  {
   "cell_type": "code",
   "execution_count": 7,
   "id": "6a641ca2",
   "metadata": {
    "colab": {
     "base_uri": "https://localhost:8080/"
    },
    "id": "6a641ca2",
    "outputId": "d292dae2-731d-4079-ba64-c6f19abd3bc8"
   },
   "outputs": [
    {
     "data": {
      "text/plain": [
       "torch.Size([3, 32, 32])"
      ]
     },
     "execution_count": 7,
     "metadata": {},
     "output_type": "execute_result"
    }
   ],
   "source": [
    "image.shape  # shape of every image=(32,32)"
   ]
  },
  {
   "cell_type": "code",
   "execution_count": 8,
   "id": "c56824ea",
   "metadata": {
    "colab": {
     "base_uri": "https://localhost:8080/"
    },
    "id": "c56824ea",
    "outputId": "11fbe63c-e64a-465c-b31d-f35894363d24"
   },
   "outputs": [
    {
     "data": {
      "text/plain": [
       "{'airplane': 0,\n",
       " 'automobile': 1,\n",
       " 'bird': 2,\n",
       " 'cat': 3,\n",
       " 'deer': 4,\n",
       " 'dog': 5,\n",
       " 'frog': 6,\n",
       " 'horse': 7,\n",
       " 'ship': 8,\n",
       " 'truck': 9}"
      ]
     },
     "execution_count": 8,
     "metadata": {},
     "output_type": "execute_result"
    }
   ],
   "source": [
    "train_data.class_to_idx"
   ]
  },
  {
   "cell_type": "code",
   "execution_count": 9,
   "id": "827e88ce",
   "metadata": {
    "colab": {
     "base_uri": "https://localhost:8080/"
    },
    "id": "827e88ce",
    "outputId": "a3889ecd-070d-4a4e-fee0-ac044a3ee23a"
   },
   "outputs": [
    {
     "data": {
      "text/plain": [
       "torch.Size([3, 32, 32])"
      ]
     },
     "execution_count": 9,
     "metadata": {},
     "output_type": "execute_result"
    }
   ],
   "source": [
    "image.shape"
   ]
  },
  {
   "cell_type": "code",
   "execution_count": 10,
   "id": "afa62835",
   "metadata": {
    "colab": {
     "base_uri": "https://localhost:8080/",
     "height": 452
    },
    "id": "afa62835",
    "outputId": "b4b0e31d-9ac5-41cd-9dd7-3242df1e06de"
   },
   "outputs": [
    {
     "data": {
      "image/png": "[encoded data removed]",
      "text/plain": [
       "<Figure size 640x480 with 1 Axes>"
      ]
     },
     "metadata": {},
     "output_type": "display_data"
    }
   ],
   "source": [
    "img,label=train_data[random.randint(1,50000)]\n",
    "plt.imshow(img.permute(1,2,0))\n",
    "plt.title(train_data.classes[label])\n",
    "plt.show()"
   ]
  },
  {
   "cell_type": "code",
   "execution_count": 11,
   "id": "71a6a13f",
   "metadata": {
    "id": "71a6a13f"
   },
   "outputs": [],
   "source": [
    "batch_size=32\n",
    "train_dataloader=DataLoader(train_data,batch_size=batch_size,shuffle=True)\n",
    "test_dataloader=DataLoader(test_data,batch_size=batch_size)"
   ]
  },
  {
   "cell_type": "code",
   "execution_count": 12,
   "id": "62f0719a",
   "metadata": {
    "colab": {
     "base_uri": "https://localhost:8080/"
    },
    "id": "62f0719a",
    "outputId": "3efd0694-aa5d-4d15-ff53-34df32b9234a"
   },
   "outputs": [
    {
     "data": {
      "text/plain": [
       "<torch.utils.data.dataloader.DataLoader at 0x7f248f054dc0>"
      ]
     },
     "execution_count": 12,
     "metadata": {},
     "output_type": "execute_result"
    }
   ],
   "source": [
    "train_dataloader"
   ]
  },
  {
   "cell_type": "code",
   "execution_count": 13,
   "id": "826ceb84",
   "metadata": {
    "colab": {
     "base_uri": "https://localhost:8080/"
    },
    "id": "826ceb84",
    "outputId": "a13daeb8-7d75-4422-8558-7cf2b7e47936"
   },
   "outputs": [
    {
     "data": {
      "text/plain": [
       "(1563, 313)"
      ]
     },
     "execution_count": 13,
     "metadata": {},
     "output_type": "execute_result"
    }
   ],
   "source": [
    "len(train_dataloader),len(test_dataloader)"
   ]
  },
  {
   "cell_type": "code",
   "execution_count": 14,
   "id": "d443931c",
   "metadata": {
    "colab": {
     "base_uri": "https://localhost:8080/"
    },
    "id": "d443931c",
    "outputId": "618e7104-cdaf-4472-a5ce-ba1001538ef5"
   },
   "outputs": [
    {
     "data": {
      "text/plain": [
       "32"
      ]
     },
     "execution_count": 14,
     "metadata": {},
     "output_type": "execute_result"
    }
   ],
   "source": [
    "train_dataloader.batch_size"
   ]
  },
  {
   "cell_type": "code",
   "execution_count": 15,
   "id": "552cd7a6",
   "metadata": {
    "colab": {
     "base_uri": "https://localhost:8080/"
    },
    "id": "552cd7a6",
    "outputId": "5d367b4a-9198-4adb-ffa2-e53df23f4ae0"
   },
   "outputs": [
    {
     "data": {
      "text/plain": [
       "[tensor([[[[0.2627, 0.2431, 0.1608,  ..., 0.5922, 0.5961, 0.5922],\n",
       "           [0.2549, 0.2235, 0.1451,  ..., 0.6118, 0.6157, 0.6118],\n",
       "           [0.2431, 0.2000, 0.1373,  ..., 0.6353, 0.6275, 0.6235],\n",
       "           ...,\n",
       "           [0.5490, 0.5255, 0.5255,  ..., 0.5176, 0.5137, 0.5176],\n",
       "           [0.5490, 0.5333, 0.5294,  ..., 0.5255, 0.5137, 0.5333],\n",
       "           [0.5373, 0.5451, 0.5647,  ..., 0.5686, 0.5451, 0.5412]],\n",
       " \n",
       "          [[0.2667, 0.2392, 0.1608,  ..., 0.5451, 0.5490, 0.5412],\n",
       "           [0.2588, 0.2196, 0.1490,  ..., 0.5725, 0.5843, 0.5725],\n",
       "           [0.2471, 0.2078, 0.1490,  ..., 0.6000, 0.5922, 0.5922],\n",
       "           ...,\n",
       "           [0.3725, 0.3529, 0.3529,  ..., 0.3490, 0.3529, 0.3490],\n",
       "           [0.3725, 0.3608, 0.3529,  ..., 0.3647, 0.3529, 0.3843],\n",
       "           [0.3647, 0.3608, 0.3765,  ..., 0.4235, 0.4000, 0.4078]],\n",
       " \n",
       "          [[0.2000, 0.1765, 0.1255,  ..., 0.2941, 0.2980, 0.2941],\n",
       "           [0.1882, 0.1569, 0.1216,  ..., 0.3098, 0.3137, 0.3059],\n",
       "           [0.1843, 0.1569, 0.1294,  ..., 0.3333, 0.3294, 0.3294],\n",
       "           ...,\n",
       "           [0.1725, 0.1647, 0.1725,  ..., 0.1686, 0.1686, 0.1608],\n",
       "           [0.1725, 0.1686, 0.1765,  ..., 0.1882, 0.1804, 0.2118],\n",
       "           [0.1843, 0.1686, 0.1725,  ..., 0.2588, 0.2392, 0.2471]]],\n",
       " \n",
       " \n",
       "         [[[0.2980, 0.2510, 0.2157,  ..., 0.2745, 0.2863, 0.2745],\n",
       "           [0.2902, 0.2471, 0.2157,  ..., 0.1922, 0.2196, 0.2235],\n",
       "           [0.2745, 0.2510, 0.2314,  ..., 0.2078, 0.2431, 0.2314],\n",
       "           ...,\n",
       "           [0.4863, 0.5176, 0.7961,  ..., 0.6118, 0.4902, 0.4627],\n",
       "           [0.5059, 0.4667, 0.5804,  ..., 0.6824, 0.5961, 0.4627],\n",
       "           [0.4392, 0.4588, 0.4667,  ..., 0.5137, 0.5451, 0.5686]],\n",
       " \n",
       "          [[0.2627, 0.2157, 0.1843,  ..., 0.2353, 0.2314, 0.2196],\n",
       "           [0.2549, 0.2118, 0.1804,  ..., 0.1647, 0.1765, 0.1804],\n",
       "           [0.2392, 0.2157, 0.1961,  ..., 0.1843, 0.2000, 0.1922],\n",
       "           ...,\n",
       "           [0.4078, 0.4471, 0.7333,  ..., 0.5020, 0.3725, 0.3451],\n",
       "           [0.4235, 0.3922, 0.5059,  ..., 0.5686, 0.4706, 0.3373],\n",
       "           [0.3686, 0.3843, 0.3922,  ..., 0.3961, 0.4196, 0.4431]],\n",
       " \n",
       "          [[0.2353, 0.1882, 0.1569,  ..., 0.2157, 0.1961, 0.1843],\n",
       "           [0.2275, 0.1843, 0.1529,  ..., 0.1569, 0.1529, 0.1569],\n",
       "           [0.2118, 0.1882, 0.1686,  ..., 0.1804, 0.1804, 0.1686],\n",
       "           ...,\n",
       "           [0.3451, 0.3843, 0.6745,  ..., 0.3961, 0.2784, 0.2824],\n",
       "           [0.3569, 0.3294, 0.4471,  ..., 0.4549, 0.3765, 0.2627],\n",
       "           [0.3098, 0.3294, 0.3333,  ..., 0.3137, 0.3373, 0.3569]]],\n",
       " \n",
       " \n",
       "         [[[0.5725, 0.5686, 0.5647,  ..., 0.7176, 0.7373, 0.7176],\n",
       "           [0.5490, 0.5647, 0.5922,  ..., 0.6980, 0.6980, 0.6784],\n",
       "           [0.5451, 0.5373, 0.5608,  ..., 0.6941, 0.6667, 0.6706],\n",
       "           ...,\n",
       "           [0.3882, 0.4510, 0.5137,  ..., 0.5765, 0.5765, 0.5333],\n",
       "           [0.4235, 0.4745, 0.4392,  ..., 0.5412, 0.5216, 0.4784],\n",
       "           [0.4588, 0.4784, 0.4824,  ..., 0.4941, 0.4510, 0.3843]],\n",
       " \n",
       "          [[0.7882, 0.7843, 0.7804,  ..., 0.8941, 0.9137, 0.8902],\n",
       "           [0.7608, 0.7765, 0.8039,  ..., 0.8706, 0.8706, 0.8510],\n",
       "           [0.7569, 0.7490, 0.7725,  ..., 0.8667, 0.8392, 0.8431],\n",
       "           ...,\n",
       "           [0.6510, 0.7020, 0.7490,  ..., 0.7922, 0.7961, 0.7490],\n",
       "           [0.6863, 0.7255, 0.6784,  ..., 0.7686, 0.7490, 0.7059],\n",
       "           [0.7098, 0.7255, 0.7294,  ..., 0.7373, 0.7020, 0.6510]],\n",
       " \n",
       "          [[0.5882, 0.5843, 0.5804,  ..., 0.7529, 0.7725, 0.7529],\n",
       "           [0.5647, 0.5804, 0.6078,  ..., 0.7333, 0.7333, 0.7137],\n",
       "           [0.5608, 0.5529, 0.5765,  ..., 0.7294, 0.7020, 0.7059],\n",
       "           ...,\n",
       "           [0.4510, 0.5059, 0.5569,  ..., 0.6118, 0.6118, 0.5686],\n",
       "           [0.4902, 0.5333, 0.4941,  ..., 0.5804, 0.5608, 0.5176],\n",
       "           [0.5294, 0.5490, 0.5529,  ..., 0.5569, 0.5216, 0.4667]]],\n",
       " \n",
       " \n",
       "         ...,\n",
       " \n",
       " \n",
       "         [[[0.5294, 0.5412, 0.5725,  ..., 0.5804, 0.5686, 0.5608],\n",
       "           [0.5765, 0.5843, 0.6235,  ..., 0.6039, 0.5961, 0.5882],\n",
       "           [0.7529, 0.7294, 0.7569,  ..., 0.6549, 0.6588, 0.6510],\n",
       "           ...,\n",
       "           [0.6941, 0.6824, 0.6784,  ..., 0.7176, 0.7059, 0.7020],\n",
       "           [0.7020, 0.7294, 0.7216,  ..., 0.7176, 0.7098, 0.6902],\n",
       "           [0.6863, 0.7216, 0.7098,  ..., 0.7059, 0.7059, 0.6784]],\n",
       " \n",
       "          [[0.7490, 0.7412, 0.7529,  ..., 0.7569, 0.7608, 0.7608],\n",
       "           [0.7686, 0.7608, 0.7686,  ..., 0.7765, 0.7686, 0.7647],\n",
       "           [0.8941, 0.8706, 0.8745,  ..., 0.8039, 0.8078, 0.8000],\n",
       "           ...,\n",
       "           [0.5412, 0.5294, 0.5216,  ..., 0.5490, 0.5412, 0.5373],\n",
       "           [0.5569, 0.5765, 0.5647,  ..., 0.5412, 0.5412, 0.5255],\n",
       "           [0.5490, 0.5686, 0.5608,  ..., 0.5255, 0.5333, 0.5137]],\n",
       " \n",
       "          [[0.9686, 0.9608, 0.9608,  ..., 0.9490, 0.9451, 0.9451],\n",
       "           [0.9373, 0.9333, 0.9333,  ..., 0.9686, 0.9647, 0.9608],\n",
       "           [0.9647, 0.9569, 0.9647,  ..., 0.9647, 0.9725, 0.9686],\n",
       "           ...,\n",
       "           [0.4039, 0.3882, 0.3765,  ..., 0.3882, 0.3882, 0.3882],\n",
       "           [0.4196, 0.4392, 0.4235,  ..., 0.3804, 0.3922, 0.3765],\n",
       "           [0.4118, 0.4353, 0.4196,  ..., 0.3569, 0.3843, 0.3647]]],\n",
       " \n",
       " \n",
       "         [[[0.4706, 0.4745, 0.4471,  ..., 0.9098, 0.9412, 0.9490],\n",
       "           [0.3686, 0.3725, 0.3686,  ..., 0.9333, 0.8314, 0.7922],\n",
       "           [0.3686, 0.3216, 0.3176,  ..., 0.8549, 0.6078, 0.5804],\n",
       "           ...,\n",
       "           [0.3922, 0.3922, 0.3922,  ..., 0.5922, 0.6118, 0.6157],\n",
       "           [0.3804, 0.3725, 0.3529,  ..., 0.5765, 0.5922, 0.6039],\n",
       "           [0.3373, 0.3255, 0.3373,  ..., 0.5765, 0.5882, 0.6039]],\n",
       " \n",
       "          [[0.5255, 0.5255, 0.4902,  ..., 0.9529, 0.9725, 0.9765],\n",
       "           [0.3765, 0.3882, 0.3882,  ..., 0.9647, 0.8706, 0.8392],\n",
       "           [0.3725, 0.3373, 0.3451,  ..., 0.9176, 0.6902, 0.6667],\n",
       "           ...,\n",
       "           [0.4314, 0.4314, 0.4353,  ..., 0.6627, 0.6863, 0.7020],\n",
       "           [0.4275, 0.4196, 0.4078,  ..., 0.6667, 0.6863, 0.6980],\n",
       "           [0.3882, 0.3804, 0.3961,  ..., 0.6784, 0.6902, 0.7020]],\n",
       " \n",
       "          [[0.5608, 0.5608, 0.5294,  ..., 0.9804, 0.9765, 0.9765],\n",
       "           [0.4275, 0.4353, 0.4353,  ..., 0.9804, 0.8745, 0.8431],\n",
       "           [0.4314, 0.3922, 0.3961,  ..., 0.8941, 0.6471, 0.6392],\n",
       "           ...,\n",
       "           [0.4745, 0.4706, 0.4745,  ..., 0.7686, 0.8039, 0.8235],\n",
       "           [0.4745, 0.4667, 0.4588,  ..., 0.7961, 0.8157, 0.8235],\n",
       "           [0.4392, 0.4353, 0.4549,  ..., 0.8118, 0.8235, 0.8392]]],\n",
       " \n",
       " \n",
       "         [[[0.8039, 0.8392, 0.8471,  ..., 0.8588, 0.8549, 0.8353],\n",
       "           [0.8431, 0.8706, 0.8745,  ..., 0.8588, 0.8549, 0.8353],\n",
       "           [0.8824, 0.9020, 0.8980,  ..., 0.8588, 0.8549, 0.8353],\n",
       "           ...,\n",
       "           [0.8314, 0.8471, 0.8392,  ..., 0.7961, 0.7961, 0.7765],\n",
       "           [0.8196, 0.8353, 0.8275,  ..., 0.7765, 0.7843, 0.7686],\n",
       "           [0.8078, 0.8196, 0.8078,  ..., 0.7294, 0.7608, 0.7608]],\n",
       " \n",
       "          [[0.8000, 0.8353, 0.8353,  ..., 0.8706, 0.8627, 0.8431],\n",
       "           [0.8392, 0.8627, 0.8627,  ..., 0.8706, 0.8627, 0.8392],\n",
       "           [0.8627, 0.8863, 0.8784,  ..., 0.8588, 0.8549, 0.8314],\n",
       "           ...,\n",
       "           [0.7922, 0.8078, 0.8000,  ..., 0.7529, 0.7569, 0.7373],\n",
       "           [0.7843, 0.8000, 0.7882,  ..., 0.7333, 0.7490, 0.7294],\n",
       "           [0.7725, 0.7843, 0.7725,  ..., 0.6824, 0.7176, 0.7216]],\n",
       " \n",
       "          [[0.6824, 0.7255, 0.7333,  ..., 0.7725, 0.7647, 0.7412],\n",
       "           [0.7216, 0.7529, 0.7569,  ..., 0.7569, 0.7490, 0.7255],\n",
       "           [0.7490, 0.7686, 0.7686,  ..., 0.7373, 0.7333, 0.7137],\n",
       "           ...,\n",
       "           [0.6824, 0.6941, 0.6902,  ..., 0.6314, 0.6392, 0.6275],\n",
       "           [0.6706, 0.6824, 0.6784,  ..., 0.6118, 0.6314, 0.6196],\n",
       "           [0.6588, 0.6706, 0.6588,  ..., 0.5686, 0.6078, 0.6157]]]]),\n",
       " tensor([7, 4, 6, 1, 8, 3, 6, 8, 6, 3, 8, 5, 1, 8, 1, 5, 0, 1, 0, 5, 8, 2, 6, 3,\n",
       "         0, 1, 8, 0, 1, 7, 9, 5])]"
      ]
     },
     "execution_count": 15,
     "metadata": {},
     "output_type": "execute_result"
    }
   ],
   "source": [
    "next(iter(train_dataloader))"
   ]
  },
  {
   "cell_type": "code",
   "execution_count": 16,
   "id": "9b64147e",
   "metadata": {
    "colab": {
     "base_uri": "https://localhost:8080/"
    },
    "id": "9b64147e",
    "outputId": "8d5c03bd-44d6-458a-8682-cdb1f90d5ba3"
   },
   "outputs": [
    {
     "data": {
      "text/plain": [
       "2"
      ]
     },
     "execution_count": 16,
     "metadata": {},
     "output_type": "execute_result"
    }
   ],
   "source": [
    "len(next(iter(train_dataloader)))"
   ]
  },
  {
   "cell_type": "code",
   "execution_count": 17,
   "id": "66c69df4",
   "metadata": {
    "colab": {
     "base_uri": "https://localhost:8080/"
    },
    "id": "66c69df4",
    "outputId": "bb4ebfe4-fec7-44e2-cc57-5030faed84e2"
   },
   "outputs": [
    {
     "data": {
      "text/plain": [
       "torch.Size([32, 3, 32, 32])"
      ]
     },
     "execution_count": 17,
     "metadata": {},
     "output_type": "execute_result"
    }
   ],
   "source": [
    "next(iter(train_dataloader))[0].shape    # 1 batch 32 images"
   ]
  },
  {
   "cell_type": "code",
   "execution_count": 18,
   "id": "93275cea",
   "metadata": {
    "colab": {
     "base_uri": "https://localhost:8080/"
    },
    "id": "93275cea",
    "outputId": "e08a44ef-1594-4076-bf40-3d0cdad3852a"
   },
   "outputs": [
    {
     "data": {
      "text/plain": [
       "torch.Size([32])"
      ]
     },
     "execution_count": 18,
     "metadata": {},
     "output_type": "execute_result"
    }
   ],
   "source": [
    "next(iter(train_dataloader))[1].shape    # 32 labels"
   ]
  },
  {
   "cell_type": "markdown",
   "id": "dRzYEJ4YYW7A",
   "metadata": {
    "id": "dRzYEJ4YYW7A"
   },
   "source": [
    "## Base Model"
   ]
  },
  {
   "cell_type": "code",
   "execution_count": 19,
   "id": "5a7be176",
   "metadata": {
    "id": "5a7be176"
   },
   "outputs": [],
   "source": [
    "class CIFAR10_VER1(nn.Module):\n",
    "    def __init__(self,input_shape,hidden_units,output_shape):\n",
    "        super().__init__()\n",
    "        self.layer_stack=nn.Sequential(\n",
    "        nn.Flatten(),\n",
    "        nn.Linear(in_features=input_shape, out_features=hidden_units),\n",
    "        nn.ReLU(),\n",
    "        nn.Linear(in_features=hidden_units, out_features=output_shape),\n",
    "        nn.ReLU()\n",
    "        )\n",
    "    def forward(self, x: torch.Tensor):\n",
    "        return self.layer_stack(x)"
   ]
  },
  {
   "cell_type": "code",
   "execution_count": 20,
   "id": "5c47cfb5",
   "metadata": {
    "colab": {
     "base_uri": "https://localhost:8080/"
    },
    "id": "5c47cfb5",
    "outputId": "851199ee-e4f1-4a49-ae0c-1daaa24f0018"
   },
   "outputs": [
    {
     "data": {
      "text/plain": [
       "3072"
      ]
     },
     "execution_count": 20,
     "metadata": {},
     "output_type": "execute_result"
    }
   ],
   "source": [
    "32*32*3"
   ]
  },
  {
   "cell_type": "code",
   "execution_count": 21,
   "id": "00d07265",
   "metadata": {
    "id": "00d07265"
   },
   "outputs": [],
   "source": [
    "model_1=CIFAR10_VER1(3072,10,len(test_data.classes)).to(\"cuda\")"
   ]
  },
  {
   "cell_type": "code",
   "execution_count": 22,
   "id": "4b788d7f",
   "metadata": {
    "colab": {
     "base_uri": "https://localhost:8080/"
    },
    "id": "4b788d7f",
    "outputId": "0a0b769e-aaeb-42a1-931c-50ee4c4ffcaa"
   },
   "outputs": [
    {
     "data": {
      "text/plain": [
       "CIFAR10_VER1(\n",
       "  (layer_stack): Sequential(\n",
       "    (0): Flatten(start_dim=1, end_dim=-1)\n",
       "    (1): Linear(in_features=3072, out_features=10, bias=True)\n",
       "    (2): ReLU()\n",
       "    (3): Linear(in_features=10, out_features=10, bias=True)\n",
       "    (4): ReLU()\n",
       "  )\n",
       ")"
      ]
     },
     "execution_count": 22,
     "metadata": {},
     "output_type": "execute_result"
    }
   ],
   "source": [
    "model_1"
   ]
  },
  {
   "cell_type": "code",
   "execution_count": 23,
   "id": "37c21f2f",
   "metadata": {
    "colab": {
     "base_uri": "https://localhost:8080/"
    },
    "id": "37c21f2f",
    "outputId": "af0f222d-48d3-418b-92c1-bc35c3e037cf"
   },
   "outputs": [
    {
     "data": {
      "text/plain": [
       "device(type='cuda', index=0)"
      ]
     },
     "execution_count": 23,
     "metadata": {},
     "output_type": "execute_result"
    }
   ],
   "source": [
    "next(model_1.parameters()).device"
   ]
  },
  {
   "cell_type": "code",
   "execution_count": 24,
   "id": "EuKVhXLpVopm",
   "metadata": {
    "id": "EuKVhXLpVopm"
   },
   "outputs": [],
   "source": [
    "from timeit import default_timer as timer\n",
    "def print_train_time(start: float, end: float, device: torch.device = None):\n",
    "\n",
    "    total_time = end - start\n",
    "    print(f\"Train time on {device}: {total_time:.3f} seconds\")\n",
    "    return total_time"
   ]
  },
  {
   "cell_type": "code",
   "execution_count": 25,
   "id": "fgZG1uVNVv2c",
   "metadata": {
    "colab": {
     "base_uri": "https://localhost:8080/"
    },
    "id": "fgZG1uVNVv2c",
    "outputId": "bf3b3bfd-0caf-4a7f-c937-97c6efd3eeed"
   },
   "outputs": [
    {
     "name": "stdout",
     "output_type": "stream",
     "text": [
      "Downloading helper_functions.py\n"
     ]
    }
   ],
   "source": [
    "import requests\n",
    "from pathlib import Path\n",
    "\n",
    "# Download helper functions from Learn PyTorch repo \n",
    "if Path(\"helper_functions.py\").is_file():\n",
    "  print(\"helper_functions.py already exists, skipping download\")\n",
    "else:\n",
    "  print(\"Downloading helper_functions.py\")\n",
    "  request = requests.get(\"https://raw.githubusercontent.com/mrdbourke/pytorch-deep-learning/main/helper_functions.py\")\n",
    "  with open(\"helper_functions.py\", \"wb\") as f:\n",
    "    f.write(request.content)"
   ]
  },
  {
   "cell_type": "code",
   "execution_count": 26,
   "id": "_C-2Rk4kVvz1",
   "metadata": {
    "id": "_C-2Rk4kVvz1"
   },
   "outputs": [],
   "source": [
    "from helper_functions import accuracy_fn "
   ]
  },
  {
   "cell_type": "code",
   "execution_count": 27,
   "id": "30163e2f",
   "metadata": {
    "id": "30163e2f"
   },
   "outputs": [],
   "source": [
    "loss_fn = nn.CrossEntropyLoss()\n",
    "optimizer = torch.optim.Adam(params=model_1.parameters(),\n",
    "                            lr=0.01)"
   ]
  },
  {
   "cell_type": "code",
   "execution_count": 28,
   "id": "g8zuCkpJW6Fm",
   "metadata": {
    "id": "g8zuCkpJW6Fm"
   },
   "outputs": [],
   "source": [
    "device=\"cuda\""
   ]
  },
  {
   "cell_type": "code",
   "execution_count": 29,
   "id": "qxmjZk8HW6Ad",
   "metadata": {
    "id": "qxmjZk8HW6Ad"
   },
   "outputs": [],
   "source": [
    "def train_step(model,\n",
    "               data_loader,\n",
    "               loss_fn,\n",
    "               optimizer,\n",
    "               accuracy_fn,\n",
    "               device):\n",
    "    train_loss, train_acc = 0, 0\n",
    "    model.to(device)\n",
    "    for batch, (X, y) in enumerate(data_loader):\n",
    "        X, y = X.to(device), y.to(device)\n",
    "\n",
    "        y_pred = model(X)\n",
    "\n",
    "        loss = loss_fn(y_pred, y)\n",
    "        train_loss += loss\n",
    "        train_acc += accuracy_fn(y_true=y,\n",
    "                                 y_pred=y_pred.argmax(dim=1))\n",
    "\n",
    "\n",
    "        optimizer.zero_grad()\n",
    "\n",
    "        loss.backward()\n",
    "\n",
    "\n",
    "        optimizer.step()\n",
    "\n",
    "    train_loss /= len(data_loader)\n",
    "    train_acc /= len(data_loader)\n",
    "    print(f\"Train loss: {train_loss:.5f} | Train accuracy: {train_acc:.2f}%\")\n",
    "    return train_loss\n",
    "\n",
    "\n",
    "def test_step(data_loader,\n",
    "              model,\n",
    "              loss_fn,\n",
    "              accuracy_fn,\n",
    "              device):\n",
    "    test_loss, test_acc = 0, 0\n",
    "    model.to(device)\n",
    "    model.eval()\n",
    "    with torch.inference_mode():\n",
    "        for X, y in data_loader:\n",
    "            X, y = X.to(device), y.to(device)\n",
    "\n",
    "            test_pred = model(X)\n",
    "\n",
    "            test_loss += loss_fn(test_pred, y)\n",
    "            test_acc += accuracy_fn(y_true=y,\n",
    "                y_pred=test_pred.argmax(dim=1)\n",
    "            )\n",
    "\n",
    "        test_loss /= len(data_loader)\n",
    "        test_acc /= len(data_loader)\n",
    "        print(f\"Test loss: {test_loss:.5f} | Test accuracy: {test_acc:.2f}%\\n\")\n",
    "    return test_loss\n"
   ]
  },
  {
   "cell_type": "code",
   "execution_count": 30,
   "id": "thZHyWfnQ8w3",
   "metadata": {
    "colab": {
     "base_uri": "https://localhost:8080/",
     "height": 0,
     "referenced_widgets": [
      "c3a316440db64c9f96210935fa56e0fc",
      "5635710c9193464696d5fdb8d7e67765",
      "71cf5d5b5061438b9366db1f00a2dee7",
      "f3e60c8d5cd04643ba4bc1670f6e63f0",
      "46d7dee1d65544d3a0948440e9bb2e6b",
      "70d86c05aaed42348993d076745e0561",
      "c061c3fc3d3941759f68c75fa6b4c49d",
      "34d2ffbf3f6b401c9eea1fd28933fb54",
      "89451c9fe12b40ad894a11b8818292e5",
      "9f080ed6cadc4b43893f5a48d23c01b3",
      "b84d4fb87de84c448c9bfd1d9a4c4d00"
     ]
    },
    "id": "thZHyWfnQ8w3",
    "outputId": "e2114f4f-6b92-4faa-896d-97e4a9187bba"
   },
   "outputs": [
    {
     "data": {
      "application/vnd.jupyter.widget-view+json": {
       "model_id": "c3a316440db64c9f96210935fa56e0fc",
       "version_major": 2,
       "version_minor": 0
      },
      "text/plain": [
       "  0%|          | 0/3 [00:00<?, ?it/s]"
      ]
     },
     "metadata": {},
     "output_type": "display_data"
    },
    {
     "name": "stdout",
     "output_type": "stream",
     "text": [
      "Epoch: 0\n",
      "---------\n",
      "Train loss: 2.31396 | Train accuracy: 10.04%\n",
      "Test loss: 2.30259 | Test accuracy: 10.00%\n",
      "\n",
      "Epoch: 1\n",
      "---------\n",
      "Train loss: 2.30256 | Train accuracy: 10.01%\n",
      "Test loss: 2.30259 | Test accuracy: 10.00%\n",
      "\n",
      "Epoch: 2\n",
      "---------\n",
      "Train loss: 2.30256 | Train accuracy: 10.00%\n",
      "Test loss: 2.30259 | Test accuracy: 10.00%\n",
      "\n"
     ]
    }
   ],
   "source": [
    "torch.manual_seed(42)\n",
    "\n",
    "epochs = 3\n",
    "for epoch in tqdm(range(epochs)):\n",
    "    print(f\"Epoch: {epoch}\\n---------\")\n",
    "    train_step(data_loader=train_dataloader,\n",
    "        model=model_1,\n",
    "        loss_fn=loss_fn,\n",
    "        optimizer=optimizer,\n",
    "        accuracy_fn=accuracy_fn,\n",
    "        device=\"cuda\"\n",
    "    )\n",
    "    test_step(data_loader=test_dataloader,\n",
    "        model=model_1,\n",
    "        loss_fn=loss_fn,\n",
    "        accuracy_fn=accuracy_fn,\n",
    "        device=\"cuda\"\n",
    "    )\n"
   ]
  },
  {
   "cell_type": "code",
   "execution_count": 31,
   "id": "JKKlLLjBY3YT",
   "metadata": {
    "colab": {
     "base_uri": "https://localhost:8080/"
    },
    "id": "JKKlLLjBY3YT",
    "outputId": "6610a160-4760-4d91-b72b-bd29d8ca8a8d"
   },
   "outputs": [
    {
     "data": {
      "text/plain": [
       "{'model_name': 'CIFAR10_VER1',\n",
       " 'model_loss': 2.30259108543396,\n",
       " 'model_acc': 10.003993610223642}"
      ]
     },
     "execution_count": 31,
     "metadata": {},
     "output_type": "execute_result"
    }
   ],
   "source": [
    "torch.manual_seed(42)\n",
    "def eval_model(model: torch.nn.Module,\n",
    "               data_loader: torch.utils.data.DataLoader,\n",
    "               loss_fn: torch.nn.Module,\n",
    "               accuracy_fn,\n",
    "               device: torch.device = device):\n",
    "   \n",
    "    loss, acc = 0, 0\n",
    "    model.eval()\n",
    "    with torch.inference_mode():\n",
    "        for X, y in data_loader:\n",
    "            # Send data to the device\n",
    "            X, y = X.to(device), y.to(device)\n",
    "            y_pred = model(X)\n",
    "            loss += loss_fn(y_pred, y)\n",
    "            acc += accuracy_fn(y_true=y, y_pred=y_pred.argmax(dim=1))\n",
    "\n",
    "        # Scale loss and acc\n",
    "        loss /= len(data_loader)\n",
    "        acc /= len(data_loader)\n",
    "    return {\"model_name\": model.__class__.__name__, \n",
    "            \"model_loss\": loss.item(),\n",
    "            \"model_acc\": acc}\n",
    "\n",
    "\n",
    "model_1_results = eval_model(model=model_1, data_loader=test_dataloader,\n",
    "    loss_fn=loss_fn, accuracy_fn=accuracy_fn,\n",
    "    device=device\n",
    ")\n",
    "model_1_results"
   ]
  },
  {
   "cell_type": "markdown",
   "id": "htFPiTs5YeGv",
   "metadata": {
    "id": "htFPiTs5YeGv"
   },
   "source": [
    "## CNN Model"
   ]
  },
  {
   "cell_type": "code",
   "execution_count": 32,
   "id": "mSlk6tVlYfmE",
   "metadata": {
    "colab": {
     "base_uri": "https://localhost:8080/"
    },
    "id": "mSlk6tVlYfmE",
    "outputId": "aa941fbb-a625-4b3b-a574-bd8d65520fa0"
   },
   "outputs": [
    {
     "data": {
      "text/plain": [
       "CIFAR10_VER2(\n",
       "  (block_1): Sequential(\n",
       "    (0): Conv2d(3, 10, kernel_size=(3, 3), stride=(1, 1), padding=(1, 1))\n",
       "    (1): ReLU()\n",
       "    (2): Conv2d(10, 10, kernel_size=(3, 3), stride=(1, 1), padding=(1, 1))\n",
       "    (3): ReLU()\n",
       "    (4): MaxPool2d(kernel_size=2, stride=2, padding=0, dilation=1, ceil_mode=False)\n",
       "  )\n",
       "  (block_2): Sequential(\n",
       "    (0): Conv2d(10, 10, kernel_size=(3, 3), stride=(1, 1), padding=(1, 1))\n",
       "    (1): ReLU()\n",
       "    (2): Conv2d(10, 10, kernel_size=(3, 3), stride=(1, 1), padding=(1, 1))\n",
       "    (3): ReLU()\n",
       "    (4): MaxPool2d(kernel_size=2, stride=2, padding=0, dilation=1, ceil_mode=False)\n",
       "  )\n",
       "  (classifier): Sequential(\n",
       "    (0): Flatten(start_dim=1, end_dim=-1)\n",
       "    (1): Linear(in_features=640, out_features=10, bias=True)\n",
       "  )\n",
       ")"
      ]
     },
     "execution_count": 32,
     "metadata": {},
     "output_type": "execute_result"
    }
   ],
   "source": [
    "# Create a convolutional neural network\n",
    "class CIFAR10_VER2(nn.Module):\n",
    "\n",
    "    def __init__(self, input_shape: int, hidden_units: int, output_shape: int):\n",
    "        super().__init__()\n",
    "        self.block_1 = nn.Sequential(\n",
    "            nn.Conv2d(in_channels=input_shape,\n",
    "                      out_channels=hidden_units,\n",
    "                      kernel_size=3, \n",
    "                      stride=1, \n",
    "                      padding=1),\n",
    "            nn.ReLU(),\n",
    "            nn.Conv2d(in_channels=hidden_units,\n",
    "                      out_channels=hidden_units,\n",
    "                      kernel_size=3,\n",
    "                      stride=1,\n",
    "                      padding=1),\n",
    "            nn.ReLU(),\n",
    "            nn.MaxPool2d(kernel_size=2,\n",
    "                         stride=2) \n",
    "        )\n",
    "        self.block_2 = nn.Sequential(\n",
    "            nn.Conv2d(hidden_units, hidden_units, 3, padding=1),\n",
    "            nn.ReLU(),\n",
    "            nn.Conv2d(hidden_units, hidden_units, 3, padding=1),\n",
    "            nn.ReLU(),\n",
    "            nn.MaxPool2d(2)\n",
    "        )\n",
    "        self.classifier = nn.Sequential(\n",
    "            nn.Flatten(),\n",
    "            nn.Linear(in_features=hidden_units*8*8,\n",
    "                      out_features=output_shape)\n",
    "        )\n",
    "\n",
    "    def forward(self, x: torch.Tensor):\n",
    "        x = self.block_1(x)\n",
    "        #print(x.shape)\n",
    "        x = self.block_2(x)\n",
    "        #print(x.shape)\n",
    "        x = self.classifier(x)\n",
    "        #print(x.shape)\n",
    "        return x\n",
    "\n",
    "torch.manual_seed(42)\n",
    "model_2 = CIFAR10_VER2(input_shape=3,\n",
    "    hidden_units=10,\n",
    "    output_shape=len(test_data.classes)).to(device)\n",
    "model_2"
   ]
  },
  {
   "cell_type": "code",
   "execution_count": 33,
   "id": "rplmqrGTl_d7",
   "metadata": {
    "id": "rplmqrGTl_d7"
   },
   "outputs": [],
   "source": [
    "#model_2(image.unsqueeze(0).to(device))"
   ]
  },
  {
   "cell_type": "code",
   "execution_count": 34,
   "id": "UtM-VPJdZSZN",
   "metadata": {
    "id": "UtM-VPJdZSZN"
   },
   "outputs": [],
   "source": [
    "loss_fn = nn.CrossEntropyLoss()\n",
    "optimizer = torch.optim.SGD(params=model_2.parameters(),\n",
    "                             lr=0.01)"
   ]
  },
  {
   "cell_type": "code",
   "execution_count": 35,
   "id": "83t_hG8nd4_Z",
   "metadata": {
    "colab": {
     "base_uri": "https://localhost:8080/",
     "height": 1000,
     "referenced_widgets": [
      "f25ea35f9de94d959480dcad54400949",
      "b1f4ec1ba6924eadacf6b1cb76543da3",
      "2cf6284662674eaba874b1d6053366a1",
      "96c4deef14be4099b7ea0007d778d5fa",
      "6b9762a183744867ab16ff6e90168dbe",
      "f14dd0a5aed74c818ee6328d5e802843",
      "8c8323e9a5d64494852aef0b297b1f88",
      "bc72cef19102456a926f0b81f14bcda1",
      "29f879ca086e4224aff736af4d457ab9",
      "750fb4ac3d9742d1a0f86c26756cafaa",
      "636e883739894c7eb377f8f6a3dc4994"
     ]
    },
    "id": "83t_hG8nd4_Z",
    "outputId": "0a522415-a799-451d-8fdc-4a76faa5356b"
   },
   "outputs": [
    {
     "data": {
      "application/vnd.jupyter.widget-view+json": {
       "model_id": "f25ea35f9de94d959480dcad54400949",
       "version_major": 2,
       "version_minor": 0
      },
      "text/plain": [
       "  0%|          | 0/50 [00:00<?, ?it/s]"
      ]
     },
     "metadata": {},
     "output_type": "display_data"
    },
    {
     "name": "stdout",
     "output_type": "stream",
     "text": [
      "Epoch: 0\n",
      "---------\n",
      "Train loss: 2.30211 | Train accuracy: 10.50%\n",
      "Test loss: 2.29811 | Test accuracy: 12.68%\n",
      "\n",
      "Epoch: 1\n",
      "---------\n",
      "Train loss: 2.16165 | Train accuracy: 21.17%\n",
      "Test loss: 2.02693 | Test accuracy: 27.23%\n",
      "\n",
      "Epoch: 2\n",
      "---------\n",
      "Train loss: 1.92478 | Train accuracy: 31.44%\n",
      "Test loss: 1.79387 | Test accuracy: 36.53%\n",
      "\n",
      "Epoch: 3\n",
      "---------\n",
      "Train loss: 1.68107 | Train accuracy: 39.91%\n",
      "Test loss: 1.63210 | Test accuracy: 41.33%\n",
      "\n",
      "Epoch: 4\n",
      "---------\n",
      "Train loss: 1.57139 | Train accuracy: 44.00%\n",
      "Test loss: 1.67597 | Test accuracy: 41.80%\n",
      "\n",
      "Epoch: 5\n",
      "---------\n",
      "Train loss: 1.50225 | Train accuracy: 46.49%\n",
      "Test loss: 1.46652 | Test accuracy: 47.06%\n",
      "\n",
      "Epoch: 6\n",
      "---------\n",
      "Train loss: 1.44425 | Train accuracy: 48.65%\n",
      "Test loss: 1.50732 | Test accuracy: 46.72%\n",
      "\n",
      "Epoch: 7\n",
      "---------\n",
      "Train loss: 1.39463 | Train accuracy: 50.50%\n",
      "Test loss: 1.38964 | Test accuracy: 50.42%\n",
      "\n",
      "Epoch: 8\n",
      "---------\n",
      "Train loss: 1.35464 | Train accuracy: 51.96%\n",
      "Test loss: 1.35736 | Test accuracy: 51.78%\n",
      "\n",
      "Epoch: 9\n",
      "---------\n",
      "Train loss: 1.31884 | Train accuracy: 53.51%\n",
      "Test loss: 1.33686 | Test accuracy: 52.66%\n",
      "\n",
      "Epoch: 10\n",
      "---------\n",
      "Train loss: 1.29320 | Train accuracy: 53.99%\n",
      "Test loss: 1.29998 | Test accuracy: 54.67%\n",
      "\n",
      "Epoch: 11\n",
      "---------\n",
      "Train loss: 1.26750 | Train accuracy: 55.12%\n",
      "Test loss: 1.30702 | Test accuracy: 54.27%\n",
      "\n",
      "Epoch: 12\n",
      "---------\n",
      "Train loss: 1.24743 | Train accuracy: 56.09%\n",
      "Test loss: 1.27289 | Test accuracy: 55.48%\n",
      "\n",
      "Epoch: 13\n",
      "---------\n",
      "Train loss: 1.22798 | Train accuracy: 56.79%\n",
      "Test loss: 1.36532 | Test accuracy: 51.65%\n",
      "\n",
      "Epoch: 14\n",
      "---------\n",
      "Train loss: 1.20508 | Train accuracy: 57.83%\n",
      "Test loss: 1.22589 | Test accuracy: 56.95%\n",
      "\n",
      "Epoch: 15\n",
      "---------\n",
      "Train loss: 1.18533 | Train accuracy: 58.22%\n",
      "Test loss: 1.21848 | Test accuracy: 57.05%\n",
      "\n",
      "Epoch: 16\n",
      "---------\n",
      "Train loss: 1.16815 | Train accuracy: 58.77%\n",
      "Test loss: 1.21062 | Test accuracy: 57.33%\n",
      "\n",
      "Epoch: 17\n",
      "---------\n",
      "Train loss: 1.15149 | Train accuracy: 59.49%\n",
      "Test loss: 1.19836 | Test accuracy: 57.52%\n",
      "\n",
      "Epoch: 18\n",
      "---------\n",
      "Train loss: 1.13544 | Train accuracy: 60.07%\n",
      "Test loss: 1.17725 | Test accuracy: 58.72%\n",
      "\n",
      "Epoch: 19\n",
      "---------\n",
      "Train loss: 1.11826 | Train accuracy: 60.81%\n",
      "Test loss: 1.17892 | Test accuracy: 58.75%\n",
      "\n",
      "Epoch: 20\n",
      "---------\n",
      "Train loss: 1.10635 | Train accuracy: 61.08%\n",
      "Test loss: 1.16809 | Test accuracy: 58.03%\n",
      "\n",
      "Epoch: 21\n",
      "---------\n",
      "Train loss: 1.09033 | Train accuracy: 61.61%\n",
      "Test loss: 1.18436 | Test accuracy: 58.22%\n",
      "\n",
      "Epoch: 22\n",
      "---------\n",
      "Train loss: 1.07436 | Train accuracy: 62.28%\n",
      "Test loss: 1.15277 | Test accuracy: 59.41%\n",
      "\n",
      "Epoch: 23\n",
      "---------\n",
      "Train loss: 1.06065 | Train accuracy: 63.01%\n",
      "Test loss: 1.13209 | Test accuracy: 60.17%\n",
      "\n",
      "Epoch: 24\n",
      "---------\n",
      "Train loss: 1.04852 | Train accuracy: 63.16%\n",
      "Test loss: 1.17249 | Test accuracy: 59.42%\n",
      "\n",
      "Epoch: 25\n",
      "---------\n",
      "Train loss: 1.03749 | Train accuracy: 63.54%\n",
      "Test loss: 1.13015 | Test accuracy: 60.58%\n",
      "\n",
      "Epoch: 26\n",
      "---------\n",
      "Train loss: 1.02628 | Train accuracy: 64.07%\n",
      "Test loss: 1.08004 | Test accuracy: 62.63%\n",
      "\n",
      "Epoch: 27\n",
      "---------\n",
      "Train loss: 1.01407 | Train accuracy: 64.30%\n",
      "Test loss: 1.09870 | Test accuracy: 61.52%\n",
      "\n",
      "Epoch: 28\n",
      "---------\n",
      "Train loss: 1.00449 | Train accuracy: 64.66%\n",
      "Test loss: 1.06385 | Test accuracy: 63.05%\n",
      "\n",
      "Epoch: 29\n",
      "---------\n",
      "Train loss: 0.99325 | Train accuracy: 65.09%\n",
      "Test loss: 1.07981 | Test accuracy: 62.86%\n",
      "\n",
      "Epoch: 30\n",
      "---------\n",
      "Train loss: 0.98674 | Train accuracy: 65.46%\n",
      "Test loss: 1.07078 | Test accuracy: 63.00%\n",
      "\n",
      "Epoch: 31\n",
      "---------\n",
      "Train loss: 0.97825 | Train accuracy: 65.75%\n",
      "Test loss: 1.08584 | Test accuracy: 62.44%\n",
      "\n",
      "Epoch: 32\n",
      "---------\n",
      "Train loss: 0.97107 | Train accuracy: 65.92%\n",
      "Test loss: 1.09130 | Test accuracy: 61.67%\n",
      "\n",
      "Epoch: 33\n",
      "---------\n",
      "Train loss: 0.96421 | Train accuracy: 66.17%\n",
      "Test loss: 1.11910 | Test accuracy: 60.81%\n",
      "\n",
      "Epoch: 34\n",
      "---------\n",
      "Train loss: 0.95764 | Train accuracy: 66.43%\n",
      "Test loss: 1.05865 | Test accuracy: 63.34%\n",
      "\n",
      "Epoch: 35\n",
      "---------\n",
      "Train loss: 0.95373 | Train accuracy: 66.49%\n",
      "Test loss: 1.03279 | Test accuracy: 63.93%\n",
      "\n",
      "Epoch: 36\n",
      "---------\n",
      "Train loss: 0.94643 | Train accuracy: 66.86%\n",
      "Test loss: 1.06925 | Test accuracy: 63.11%\n",
      "\n",
      "Epoch: 37\n",
      "---------\n",
      "Train loss: 0.94083 | Train accuracy: 66.95%\n",
      "Test loss: 1.08359 | Test accuracy: 62.70%\n",
      "\n",
      "Epoch: 38\n",
      "---------\n",
      "Train loss: 0.93641 | Train accuracy: 67.36%\n",
      "Test loss: 1.03377 | Test accuracy: 64.18%\n",
      "\n",
      "Epoch: 39\n",
      "---------\n",
      "Train loss: 0.93432 | Train accuracy: 67.35%\n",
      "Test loss: 1.05931 | Test accuracy: 63.69%\n",
      "\n",
      "Epoch: 40\n",
      "---------\n",
      "Train loss: 0.92778 | Train accuracy: 67.31%\n",
      "Test loss: 1.04896 | Test accuracy: 63.64%\n",
      "\n",
      "Epoch: 41\n",
      "---------\n",
      "Train loss: 0.92577 | Train accuracy: 67.35%\n",
      "Test loss: 1.02551 | Test accuracy: 65.00%\n",
      "\n",
      "Epoch: 42\n",
      "---------\n",
      "Train loss: 0.92054 | Train accuracy: 67.64%\n",
      "Test loss: 1.04366 | Test accuracy: 63.81%\n",
      "\n",
      "Epoch: 43\n",
      "---------\n",
      "Train loss: 0.91778 | Train accuracy: 67.68%\n",
      "Test loss: 1.01483 | Test accuracy: 65.13%\n",
      "\n",
      "Epoch: 44\n",
      "---------\n",
      "Train loss: 0.91388 | Train accuracy: 67.87%\n",
      "Test loss: 1.02039 | Test accuracy: 64.78%\n",
      "\n",
      "Epoch: 45\n",
      "---------\n",
      "Train loss: 0.90876 | Train accuracy: 68.13%\n",
      "Test loss: 1.00646 | Test accuracy: 65.11%\n",
      "\n",
      "Epoch: 46\n",
      "---------\n",
      "Train loss: 0.90560 | Train accuracy: 68.13%\n",
      "Test loss: 1.01384 | Test accuracy: 64.99%\n",
      "\n",
      "Epoch: 47\n",
      "---------\n",
      "Train loss: 0.90212 | Train accuracy: 68.02%\n",
      "Test loss: 1.11120 | Test accuracy: 62.49%\n",
      "\n",
      "Epoch: 48\n",
      "---------\n",
      "Train loss: 0.89972 | Train accuracy: 68.59%\n",
      "Test loss: 1.01978 | Test accuracy: 64.69%\n",
      "\n",
      "Epoch: 49\n",
      "---------\n",
      "Train loss: 0.89678 | Train accuracy: 68.42%\n",
      "Test loss: 1.04209 | Test accuracy: 64.11%\n",
      "\n"
     ]
    }
   ],
   "source": [
    "torch.manual_seed(42)\n",
    "\n",
    "train_loss_list=[]\n",
    "test_loss_list=[]\n",
    "\n",
    "\n",
    "epochs = 50\n",
    "for epoch in tqdm(range(epochs)):\n",
    "    print(f\"Epoch: {epoch}\\n---------\")\n",
    "    train_loss=train_step(data_loader=train_dataloader,\n",
    "        model=model_2,\n",
    "        loss_fn=loss_fn,\n",
    "        optimizer=optimizer,\n",
    "        accuracy_fn=accuracy_fn,\n",
    "        device=device\n",
    "    )\n",
    "    train_loss_list.append(train_loss)\n",
    "\n",
    "    test_loss=test_step(data_loader=test_dataloader,\n",
    "        model=model_2,\n",
    "        loss_fn=loss_fn,\n",
    "        accuracy_fn=accuracy_fn,\n",
    "        device=device\n",
    "    )\n",
    "    test_loss_list.append(test_loss)\n"
   ]
  },
  {
   "cell_type": "code",
   "execution_count": 36,
   "id": "NpXUxf_SeFjU",
   "metadata": {
    "colab": {
     "base_uri": "https://localhost:8080/",
     "height": 509
    },
    "id": "NpXUxf_SeFjU",
    "outputId": "29507c04-f404-4f13-8586-727746fe09b9"
   },
   "outputs": [
    {
     "data": {
      "text/plain": [
       "Text(0.5, 1.0, 'SGD Optimizer')"
      ]
     },
     "execution_count": 36,
     "metadata": {},
     "output_type": "execute_result"
    },
    {
     "data": {
      "image/png": "[encoded data removed]",
      "text/plain": [
       "<Figure size 1500x700 with 1 Axes>"
      ]
     },
     "metadata": {},
     "output_type": "display_data"
    }
   ],
   "source": [
    "train_loss_numpy=[]\n",
    "test_loss_numpy=[]\n",
    "for losses in train_loss_list:\n",
    "  train_loss_numpy.append(losses.detach().cpu().numpy())\n",
    "for losses in test_loss_list:\n",
    "  test_loss_numpy.append(losses.detach().cpu().numpy())\n",
    "\n",
    "plt.figure(figsize=(15, 7))\n",
    "\n",
    "plt.plot(train_loss_numpy, label='train_loss')\n",
    "plt.plot(test_loss_numpy, label='test_loss')\n",
    "plt.legend()\n",
    "plt.title(\"SGD Optimizer\")"
   ]
  },
  {
   "cell_type": "code",
   "execution_count": 37,
   "id": "NZDRDHT11L4d",
   "metadata": {
    "id": "NZDRDHT11L4d"
   },
   "outputs": [],
   "source": [
    "#loss_fn = nn.CrossEntropyLoss()\n",
    "#optimizer = torch.optim.Adam(params=model_2.parameters(),\n",
    "#                             lr=0.01)"
   ]
  },
  {
   "cell_type": "code",
   "execution_count": 38,
   "id": "nsOOMOO52z8O",
   "metadata": {
    "id": "nsOOMOO52z8O"
   },
   "outputs": [],
   "source": [
    "# torch.manual_seed(42)\n",
    "\n",
    "# train_loss_list=[]\n",
    "# test_loss_list=[]\n",
    "\n",
    "\n",
    "# epochs = 20\n",
    "# for epoch in tqdm(range(epochs)):\n",
    "#     print(f\"Epoch: {epoch}\\n---------\")\n",
    "#     train_loss=train_step(data_loader=train_dataloader,\n",
    "#         model=model_2,\n",
    "#         loss_fn=loss_fn,\n",
    "#         optimizer=optimizer,\n",
    "#         accuracy_fn=accuracy_fn,\n",
    "#         device=device\n",
    "#     )\n",
    "#     train_loss_list.append(train_loss)\n",
    "\n",
    "#     test_loss=test_step(data_loader=test_dataloader,\n",
    "#         model=model_2,\n",
    "#         loss_fn=loss_fn,\n",
    "#         accuracy_fn=accuracy_fn,\n",
    "#         device=device\n",
    "#     )\n",
    "#     test_loss_list.append(test_loss)\n"
   ]
  },
  {
   "cell_type": "code",
   "execution_count": 39,
   "id": "m9qD0j_U49OB",
   "metadata": {
    "id": "m9qD0j_U49OB"
   },
   "outputs": [],
   "source": [
    "# train_loss_numpy=[]\n",
    "# test_loss_numpy=[]\n",
    "# for losses in train_loss_list:\n",
    "#   train_loss_numpy.append(losses.detach().cpu().numpy())\n",
    "# for losses in test_loss_list:\n",
    "#   test_loss_numpy.append(losses.detach().cpu().numpy())\n",
    "\n",
    "# plt.figure(figsize=(15, 7))\n",
    "\n",
    "# plt.plot(train_loss_numpy, label='train_loss')\n",
    "# plt.plot(test_loss_numpy, label='test_loss')\n",
    "# plt.legend()\n",
    "# plt.title(\"Adam Optimizer\")\n"
   ]
  },
  {
   "cell_type": "markdown",
   "id": "5j05u2oehSy4",
   "metadata": {
    "id": "5j05u2oehSy4"
   },
   "source": [
    "## Checking on random images"
   ]
  },
  {
   "cell_type": "code",
   "execution_count": 40,
   "id": "UJvSrEtT49qV",
   "metadata": {
    "id": "UJvSrEtT49qV"
   },
   "outputs": [],
   "source": [
    "from PIL import Image"
   ]
  },
  {
   "cell_type": "code",
   "execution_count": 41,
   "id": "tqq1pYKAh88u",
   "metadata": {
    "id": "tqq1pYKAh88u"
   },
   "outputs": [],
   "source": [
    "img=Image.open(\"/content/aeroplane.jpeg\")"
   ]
  },
  {
   "cell_type": "code",
   "execution_count": 42,
   "id": "_xI0--HDjCSk",
   "metadata": {
    "id": "_xI0--HDjCSk"
   },
   "outputs": [],
   "source": [
    "img= img. resize((32, 32))"
   ]
  },
  {
   "cell_type": "code",
   "execution_count": 43,
   "id": "D8sgpl2SiCR-",
   "metadata": {
    "id": "D8sgpl2SiCR-"
   },
   "outputs": [],
   "source": [
    "convert_tensor = torchvision.transforms.ToTensor()\n",
    "img=convert_tensor(img)"
   ]
  },
  {
   "cell_type": "code",
   "execution_count": 44,
   "id": "X97COO8wiPMB",
   "metadata": {
    "id": "X97COO8wiPMB"
   },
   "outputs": [],
   "source": [
    "pred_logit=model_2(img.unsqueeze(dim=0).to(device))"
   ]
  },
  {
   "cell_type": "code",
   "execution_count": 45,
   "id": "zCGtg23siVRH",
   "metadata": {
    "id": "zCGtg23siVRH"
   },
   "outputs": [],
   "source": [
    "pred_prob = torch.softmax(pred_logit.squeeze(), dim=0)"
   ]
  },
  {
   "cell_type": "code",
   "execution_count": 46,
   "id": "khoYGE1ojzNy",
   "metadata": {
    "id": "khoYGE1ojzNy"
   },
   "outputs": [],
   "source": [
    "pred_classe = pred_prob.argmax()"
   ]
  },
  {
   "cell_type": "code",
   "execution_count": 48,
   "id": "ANdk1tLjj_jX",
   "metadata": {
    "colab": {
     "base_uri": "https://localhost:8080/"
    },
    "id": "ANdk1tLjj_jX",
    "outputId": "1869a76a-01d8-4a01-c1de-81c0c7b78059"
   },
   "outputs": [
    {
     "data": {
      "text/plain": [
       "tensor(0)"
      ]
     },
     "execution_count": 48,
     "metadata": {},
     "output_type": "execute_result"
    }
   ],
   "source": [
    "pred_classe.cpu()"
   ]
  },
  {
   "cell_type": "code",
   "execution_count": 54,
   "id": "5SeIHMZI6-db",
   "metadata": {
    "colab": {
     "base_uri": "https://localhost:8080/"
    },
    "id": "5SeIHMZI6-db",
    "outputId": "d58d9ac2-478a-4fd7-8863-f3b993337bc3"
   },
   "outputs": [
    {
     "data": {
      "text/plain": [
       "{'airplane': 0,\n",
       " 'automobile': 1,\n",
       " 'bird': 2,\n",
       " 'cat': 3,\n",
       " 'deer': 4,\n",
       " 'dog': 5,\n",
       " 'frog': 6,\n",
       " 'horse': 7,\n",
       " 'ship': 8,\n",
       " 'truck': 9}"
      ]
     },
     "execution_count": 54,
     "metadata": {},
     "output_type": "execute_result"
    }
   ],
   "source": [
    "train_data.class_to_idx"
   ]
  },
  {
   "cell_type": "code",
   "execution_count": null,
   "id": "ETP0w8cL7bz0",
   "metadata": {
    "id": "ETP0w8cL7bz0"
   },
   "outputs": [],
   "source": []
  }
 ],
 "metadata": {
  "accelerator": "GPU",
  "colab": {
   "gpuType": "T4",
   "provenance": []
  },
  "kernelspec": {
   "display_name": "Python 3 (ipykernel)",
   "language": "python",
   "name": "python3"
  },
  "language_info": {
   "codemirror_mode": {
    "name": "ipython",
    "version": 3
   },
   "file_extension": ".py",
   "mimetype": "text/x-python",
   "name": "python",
   "nbconvert_exporter": "python",
   "pygments_lexer": "ipython3",
   "version": "3.8.16"
  },
  "widgets": {
   "application/vnd.jupyter.widget-state+json": {
    "29f879ca086e4224aff736af4d457ab9": {
     "model_module": "@jupyter-widgets/controls",
     "model_module_version": "1.5.0",
     "model_name": "ProgressStyleModel",
     "state": {
      "_model_module": "@jupyter-widgets/controls",
      "_model_module_version": "1.5.0",
      "_model_name": "ProgressStyleModel",
      "_view_count": null,
      "_view_module": "@jupyter-widgets/base",
      "_view_module_version": "1.2.0",
      "_view_name": "StyleView",
      "bar_color": null,
      "description_width": ""
     }
    },
    "2cf6284662674eaba874b1d6053366a1": {
     "model_module": "@jupyter-widgets/controls",
     "model_module_version": "1.5.0",
     "model_name": "FloatProgressModel",
     "state": {
      "_dom_classes": [],
      "_model_module": "@jupyter-widgets/controls",
      "_model_module_version": "1.5.0",
      "_model_name": "FloatProgressModel",
      "_view_count": null,
      "_view_module": "@jupyter-widgets/controls",
      "_view_module_version": "1.5.0",
      "_view_name": "ProgressView",
      "bar_style": "success",
      "description": "",
      "description_tooltip": null,
      "layout": "IPY_MODEL_bc72cef19102456a926f0b81f14bcda1",
      "max": 50,
      "min": 0,
      "orientation": "horizontal",
      "style": "IPY_MODEL_29f879ca086e4224aff736af4d457ab9",
      "value": 50
     }
    },
    "34d2ffbf3f6b401c9eea1fd28933fb54": {
     "model_module": "@jupyter-widgets/base",
     "model_module_version": "1.2.0",
     "model_name": "LayoutModel",
     "state": {
      "_model_module": "@jupyter-widgets/base",
      "_model_module_version": "1.2.0",
      "_model_name": "LayoutModel",
      "_view_count": null,
      "_view_module": "@jupyter-widgets/base",
      "_view_module_version": "1.2.0",
      "_view_name": "LayoutView",
      "align_content": null,
      "align_items": null,
      "align_self": null,
      "border": null,
      "bottom": null,
      "display": null,
      "flex": null,
      "flex_flow": null,
      "grid_area": null,
      "grid_auto_columns": null,
      "grid_auto_flow": null,
      "grid_auto_rows": null,
      "grid_column": null,
      "grid_gap": null,
      "grid_row": null,
      "grid_template_areas": null,
      "grid_template_columns": null,
      "grid_template_rows": null,
      "height": null,
      "justify_content": null,
      "justify_items": null,
      "left": null,
      "margin": null,
      "max_height": null,
      "max_width": null,
      "min_height": null,
      "min_width": null,
      "object_fit": null,
      "object_position": null,
      "order": null,
      "overflow": null,
      "overflow_x": null,
      "overflow_y": null,
      "padding": null,
      "right": null,
      "top": null,
      "visibility": null,
      "width": null
     }
    },
    "46d7dee1d65544d3a0948440e9bb2e6b": {
     "model_module": "@jupyter-widgets/base",
     "model_module_version": "1.2.0",
     "model_name": "LayoutModel",
     "state": {
      "_model_module": "@jupyter-widgets/base",
      "_model_module_version": "1.2.0",
      "_model_name": "LayoutModel",
      "_view_count": null,
      "_view_module": "@jupyter-widgets/base",
      "_view_module_version": "1.2.0",
      "_view_name": "LayoutView",
      "align_content": null,
      "align_items": null,
      "align_self": null,
      "border": null,
      "bottom": null,
      "display": null,
      "flex": null,
      "flex_flow": null,
      "grid_area": null,
      "grid_auto_columns": null,
      "grid_auto_flow": null,
      "grid_auto_rows": null,
      "grid_column": null,
      "grid_gap": null,
      "grid_row": null,
      "grid_template_areas": null,
      "grid_template_columns": null,
      "grid_template_rows": null,
      "height": null,
      "justify_content": null,
      "justify_items": null,
      "left": null,
      "margin": null,
      "max_height": null,
      "max_width": null,
      "min_height": null,
      "min_width": null,
      "object_fit": null,
      "object_position": null,
      "order": null,
      "overflow": null,
      "overflow_x": null,
      "overflow_y": null,
      "padding": null,
      "right": null,
      "top": null,
      "visibility": null,
      "width": null
     }
    },
    "5635710c9193464696d5fdb8d7e67765": {
     "model_module": "@jupyter-widgets/controls",
     "model_module_version": "1.5.0",
     "model_name": "HTMLModel",
     "state": {
      "_dom_classes": [],
      "_model_module": "@jupyter-widgets/controls",
      "_model_module_version": "1.5.0",
      "_model_name": "HTMLModel",
      "_view_count": null,
      "_view_module": "@jupyter-widgets/controls",
      "_view_module_version": "1.5.0",
      "_view_name": "HTMLView",
      "description": "",
      "description_tooltip": null,
      "layout": "IPY_MODEL_70d86c05aaed42348993d076745e0561",
      "placeholder": "​",
      "style": "IPY_MODEL_c061c3fc3d3941759f68c75fa6b4c49d",
      "value": "100%"
     }
    },
    "636e883739894c7eb377f8f6a3dc4994": {
     "model_module": "@jupyter-widgets/controls",
     "model_module_version": "1.5.0",
     "model_name": "DescriptionStyleModel",
     "state": {
      "_model_module": "@jupyter-widgets/controls",
      "_model_module_version": "1.5.0",
      "_model_name": "DescriptionStyleModel",
      "_view_count": null,
      "_view_module": "@jupyter-widgets/base",
      "_view_module_version": "1.2.0",
      "_view_name": "StyleView",
      "description_width": ""
     }
    },
    "6b9762a183744867ab16ff6e90168dbe": {
     "model_module": "@jupyter-widgets/base",
     "model_module_version": "1.2.0",
     "model_name": "LayoutModel",
     "state": {
      "_model_module": "@jupyter-widgets/base",
      "_model_module_version": "1.2.0",
      "_model_name": "LayoutModel",
      "_view_count": null,
      "_view_module": "@jupyter-widgets/base",
      "_view_module_version": "1.2.0",
      "_view_name": "LayoutView",
      "align_content": null,
      "align_items": null,
      "align_self": null,
      "border": null,
      "bottom": null,
      "display": null,
      "flex": null,
      "flex_flow": null,
      "grid_area": null,
      "grid_auto_columns": null,
      "grid_auto_flow": null,
      "grid_auto_rows": null,
      "grid_column": null,
      "grid_gap": null,
      "grid_row": null,
      "grid_template_areas": null,
      "grid_template_columns": null,
      "grid_template_rows": null,
      "height": null,
      "justify_content": null,
      "justify_items": null,
      "left": null,
      "margin": null,
      "max_height": null,
      "max_width": null,
      "min_height": null,
      "min_width": null,
      "object_fit": null,
      "object_position": null,
      "order": null,
      "overflow": null,
      "overflow_x": null,
      "overflow_y": null,
      "padding": null,
      "right": null,
      "top": null,
      "visibility": null,
      "width": null
     }
    },
    "70d86c05aaed42348993d076745e0561": {
     "model_module": "@jupyter-widgets/base",
     "model_module_version": "1.2.0",
     "model_name": "LayoutModel",
     "state": {
      "_model_module": "@jupyter-widgets/base",
      "_model_module_version": "1.2.0",
      "_model_name": "LayoutModel",
      "_view_count": null,
      "_view_module": "@jupyter-widgets/base",
      "_view_module_version": "1.2.0",
      "_view_name": "LayoutView",
      "align_content": null,
      "align_items": null,
      "align_self": null,
      "border": null,
      "bottom": null,
      "display": null,
      "flex": null,
      "flex_flow": null,
      "grid_area": null,
      "grid_auto_columns": null,
      "grid_auto_flow": null,
      "grid_auto_rows": null,
      "grid_column": null,
      "grid_gap": null,
      "grid_row": null,
      "grid_template_areas": null,
      "grid_template_columns": null,
      "grid_template_rows": null,
      "height": null,
      "justify_content": null,
      "justify_items": null,
      "left": null,
      "margin": null,
      "max_height": null,
      "max_width": null,
      "min_height": null,
      "min_width": null,
      "object_fit": null,
      "object_position": null,
      "order": null,
      "overflow": null,
      "overflow_x": null,
      "overflow_y": null,
      "padding": null,
      "right": null,
      "top": null,
      "visibility": null,
      "width": null
     }
    },
    "71cf5d5b5061438b9366db1f00a2dee7": {
     "model_module": "@jupyter-widgets/controls",
     "model_module_version": "1.5.0",
     "model_name": "FloatProgressModel",
     "state": {
      "_dom_classes": [],
      "_model_module": "@jupyter-widgets/controls",
      "_model_module_version": "1.5.0",
      "_model_name": "FloatProgressModel",
      "_view_count": null,
      "_view_module": "@jupyter-widgets/controls",
      "_view_module_version": "1.5.0",
      "_view_name": "ProgressView",
      "bar_style": "success",
      "description": "",
      "description_tooltip": null,
      "layout": "IPY_MODEL_34d2ffbf3f6b401c9eea1fd28933fb54",
      "max": 3,
      "min": 0,
      "orientation": "horizontal",
      "style": "IPY_MODEL_89451c9fe12b40ad894a11b8818292e5",
      "value": 3
     }
    },
    "750fb4ac3d9742d1a0f86c26756cafaa": {
     "model_module": "@jupyter-widgets/base",
     "model_module_version": "1.2.0",
     "model_name": "LayoutModel",
     "state": {
      "_model_module": "@jupyter-widgets/base",
      "_model_module_version": "1.2.0",
      "_model_name": "LayoutModel",
      "_view_count": null,
      "_view_module": "@jupyter-widgets/base",
      "_view_module_version": "1.2.0",
      "_view_name": "LayoutView",
      "align_content": null,
      "align_items": null,
      "align_self": null,
      "border": null,
      "bottom": null,
      "display": null,
      "flex": null,
      "flex_flow": null,
      "grid_area": null,
      "grid_auto_columns": null,
      "grid_auto_flow": null,
      "grid_auto_rows": null,
      "grid_column": null,
      "grid_gap": null,
      "grid_row": null,
      "grid_template_areas": null,
      "grid_template_columns": null,
      "grid_template_rows": null,
      "height": null,
      "justify_content": null,
      "justify_items": null,
      "left": null,
      "margin": null,
      "max_height": null,
      "max_width": null,
      "min_height": null,
      "min_width": null,
      "object_fit": null,
      "object_position": null,
      "order": null,
      "overflow": null,
      "overflow_x": null,
      "overflow_y": null,
      "padding": null,
      "right": null,
      "top": null,
      "visibility": null,
      "width": null
     }
    },
    "89451c9fe12b40ad894a11b8818292e5": {
     "model_module": "@jupyter-widgets/controls",
     "model_module_version": "1.5.0",
     "model_name": "ProgressStyleModel",
     "state": {
      "_model_module": "@jupyter-widgets/controls",
      "_model_module_version": "1.5.0",
      "_model_name": "ProgressStyleModel",
      "_view_count": null,
      "_view_module": "@jupyter-widgets/base",
      "_view_module_version": "1.2.0",
      "_view_name": "StyleView",
      "bar_color": null,
      "description_width": ""
     }
    },
    "8c8323e9a5d64494852aef0b297b1f88": {
     "model_module": "@jupyter-widgets/controls",
     "model_module_version": "1.5.0",
     "model_name": "DescriptionStyleModel",
     "state": {
      "_model_module": "@jupyter-widgets/controls",
      "_model_module_version": "1.5.0",
      "_model_name": "DescriptionStyleModel",
      "_view_count": null,
      "_view_module": "@jupyter-widgets/base",
      "_view_module_version": "1.2.0",
      "_view_name": "StyleView",
      "description_width": ""
     }
    },
    "96c4deef14be4099b7ea0007d778d5fa": {
     "model_module": "@jupyter-widgets/controls",
     "model_module_version": "1.5.0",
     "model_name": "HTMLModel",
     "state": {
      "_dom_classes": [],
      "_model_module": "@jupyter-widgets/controls",
      "_model_module_version": "1.5.0",
      "_model_name": "HTMLModel",
      "_view_count": null,
      "_view_module": "@jupyter-widgets/controls",
      "_view_module_version": "1.5.0",
      "_view_name": "HTMLView",
      "description": "",
      "description_tooltip": null,
      "layout": "IPY_MODEL_750fb4ac3d9742d1a0f86c26756cafaa",
      "placeholder": "​",
      "style": "IPY_MODEL_636e883739894c7eb377f8f6a3dc4994",
      "value": " 50/50 [12:53&lt;00:00, 15.88s/it]"
     }
    },
    "9f080ed6cadc4b43893f5a48d23c01b3": {
     "model_module": "@jupyter-widgets/base",
     "model_module_version": "1.2.0",
     "model_name": "LayoutModel",
     "state": {
      "_model_module": "@jupyter-widgets/base",
      "_model_module_version": "1.2.0",
      "_model_name": "LayoutModel",
      "_view_count": null,
      "_view_module": "@jupyter-widgets/base",
      "_view_module_version": "1.2.0",
      "_view_name": "LayoutView",
      "align_content": null,
      "align_items": null,
      "align_self": null,
      "border": null,
      "bottom": null,
      "display": null,
      "flex": null,
      "flex_flow": null,
      "grid_area": null,
      "grid_auto_columns": null,
      "grid_auto_flow": null,
      "grid_auto_rows": null,
      "grid_column": null,
      "grid_gap": null,
      "grid_row": null,
      "grid_template_areas": null,
      "grid_template_columns": null,
      "grid_template_rows": null,
      "height": null,
      "justify_content": null,
      "justify_items": null,
      "left": null,
      "margin": null,
      "max_height": null,
      "max_width": null,
      "min_height": null,
      "min_width": null,
      "object_fit": null,
      "object_position": null,
      "order": null,
      "overflow": null,
      "overflow_x": null,
      "overflow_y": null,
      "padding": null,
      "right": null,
      "top": null,
      "visibility": null,
      "width": null
     }
    },
    "b1f4ec1ba6924eadacf6b1cb76543da3": {
     "model_module": "@jupyter-widgets/controls",
     "model_module_version": "1.5.0",
     "model_name": "HTMLModel",
     "state": {
      "_dom_classes": [],
      "_model_module": "@jupyter-widgets/controls",
      "_model_module_version": "1.5.0",
      "_model_name": "HTMLModel",
      "_view_count": null,
      "_view_module": "@jupyter-widgets/controls",
      "_view_module_version": "1.5.0",
      "_view_name": "HTMLView",
      "description": "",
      "description_tooltip": null,
      "layout": "IPY_MODEL_f14dd0a5aed74c818ee6328d5e802843",
      "placeholder": "​",
      "style": "IPY_MODEL_8c8323e9a5d64494852aef0b297b1f88",
      "value": "100%"
     }
    },
    "b84d4fb87de84c448c9bfd1d9a4c4d00": {
     "model_module": "@jupyter-widgets/controls",
     "model_module_version": "1.5.0",
     "model_name": "DescriptionStyleModel",
     "state": {
      "_model_module": "@jupyter-widgets/controls",
      "_model_module_version": "1.5.0",
      "_model_name": "DescriptionStyleModel",
      "_view_count": null,
      "_view_module": "@jupyter-widgets/base",
      "_view_module_version": "1.2.0",
      "_view_name": "StyleView",
      "description_width": ""
     }
    },
    "bc72cef19102456a926f0b81f14bcda1": {
     "model_module": "@jupyter-widgets/base",
     "model_module_version": "1.2.0",
     "model_name": "LayoutModel",
     "state": {
      "_model_module": "@jupyter-widgets/base",
      "_model_module_version": "1.2.0",
      "_model_name": "LayoutModel",
      "_view_count": null,
      "_view_module": "@jupyter-widgets/base",
      "_view_module_version": "1.2.0",
      "_view_name": "LayoutView",
      "align_content": null,
      "align_items": null,
      "align_self": null,
      "border": null,
      "bottom": null,
      "display": null,
      "flex": null,
      "flex_flow": null,
      "grid_area": null,
      "grid_auto_columns": null,
      "grid_auto_flow": null,
      "grid_auto_rows": null,
      "grid_column": null,
      "grid_gap": null,
      "grid_row": null,
      "grid_template_areas": null,
      "grid_template_columns": null,
      "grid_template_rows": null,
      "height": null,
      "justify_content": null,
      "justify_items": null,
      "left": null,
      "margin": null,
      "max_height": null,
      "max_width": null,
      "min_height": null,
      "min_width": null,
      "object_fit": null,
      "object_position": null,
      "order": null,
      "overflow": null,
      "overflow_x": null,
      "overflow_y": null,
      "padding": null,
      "right": null,
      "top": null,
      "visibility": null,
      "width": null
     }
    },
    "c061c3fc3d3941759f68c75fa6b4c49d": {
     "model_module": "@jupyter-widgets/controls",
     "model_module_version": "1.5.0",
     "model_name": "DescriptionStyleModel",
     "state": {
      "_model_module": "@jupyter-widgets/controls",
      "_model_module_version": "1.5.0",
      "_model_name": "DescriptionStyleModel",
      "_view_count": null,
      "_view_module": "@jupyter-widgets/base",
      "_view_module_version": "1.2.0",
      "_view_name": "StyleView",
      "description_width": ""
     }
    },
    "c3a316440db64c9f96210935fa56e0fc": {
     "model_module": "@jupyter-widgets/controls",
     "model_module_version": "1.5.0",
     "model_name": "HBoxModel",
     "state": {
      "_dom_classes": [],
      "_model_module": "@jupyter-widgets/controls",
      "_model_module_version": "1.5.0",
      "_model_name": "HBoxModel",
      "_view_count": null,
      "_view_module": "@jupyter-widgets/controls",
      "_view_module_version": "1.5.0",
      "_view_name": "HBoxView",
      "box_style": "",
      "children": [
       "IPY_MODEL_5635710c9193464696d5fdb8d7e67765",
       "IPY_MODEL_71cf5d5b5061438b9366db1f00a2dee7",
       "IPY_MODEL_f3e60c8d5cd04643ba4bc1670f6e63f0"
      ],
      "layout": "IPY_MODEL_46d7dee1d65544d3a0948440e9bb2e6b"
     }
    },
    "f14dd0a5aed74c818ee6328d5e802843": {
     "model_module": "@jupyter-widgets/base",
     "model_module_version": "1.2.0",
     "model_name": "LayoutModel",
     "state": {
      "_model_module": "@jupyter-widgets/base",
      "_model_module_version": "1.2.0",
      "_model_name": "LayoutModel",
      "_view_count": null,
      "_view_module": "@jupyter-widgets/base",
      "_view_module_version": "1.2.0",
      "_view_name": "LayoutView",
      "align_content": null,
      "align_items": null,
      "align_self": null,
      "border": null,
      "bottom": null,
      "display": null,
      "flex": null,
      "flex_flow": null,
      "grid_area": null,
      "grid_auto_columns": null,
      "grid_auto_flow": null,
      "grid_auto_rows": null,
      "grid_column": null,
      "grid_gap": null,
      "grid_row": null,
      "grid_template_areas": null,
      "grid_template_columns": null,
      "grid_template_rows": null,
      "height": null,
      "justify_content": null,
      "justify_items": null,
      "left": null,
      "margin": null,
      "max_height": null,
      "max_width": null,
      "min_height": null,
      "min_width": null,
      "object_fit": null,
      "object_position": null,
      "order": null,
      "overflow": null,
      "overflow_x": null,
      "overflow_y": null,
      "padding": null,
      "right": null,
      "top": null,
      "visibility": null,
      "width": null
     }
    },
    "f25ea35f9de94d959480dcad54400949": {
     "model_module": "@jupyter-widgets/controls",
     "model_module_version": "1.5.0",
     "model_name": "HBoxModel",
     "state": {
      "_dom_classes": [],
      "_model_module": "@jupyter-widgets/controls",
      "_model_module_version": "1.5.0",
      "_model_name": "HBoxModel",
      "_view_count": null,
      "_view_module": "@jupyter-widgets/controls",
      "_view_module_version": "1.5.0",
      "_view_name": "HBoxView",
      "box_style": "",
      "children": [
       "IPY_MODEL_b1f4ec1ba6924eadacf6b1cb76543da3",
       "IPY_MODEL_2cf6284662674eaba874b1d6053366a1",
       "IPY_MODEL_96c4deef14be4099b7ea0007d778d5fa"
      ],
      "layout": "IPY_MODEL_6b9762a183744867ab16ff6e90168dbe"
     }
    },
    "f3e60c8d5cd04643ba4bc1670f6e63f0": {
     "model_module": "@jupyter-widgets/controls",
     "model_module_version": "1.5.0",
     "model_name": "HTMLModel",
     "state": {
      "_dom_classes": [],
      "_model_module": "@jupyter-widgets/controls",
      "_model_module_version": "1.5.0",
      "_model_name": "HTMLModel",
      "_view_count": null,
      "_view_module": "@jupyter-widgets/controls",
      "_view_module_version": "1.5.0",
      "_view_name": "HTMLView",
      "description": "",
      "description_tooltip": null,
      "layout": "IPY_MODEL_9f080ed6cadc4b43893f5a48d23c01b3",
      "placeholder": "​",
      "style": "IPY_MODEL_b84d4fb87de84c448c9bfd1d9a4c4d00",
      "value": " 3/3 [00:50&lt;00:00, 15.99s/it]"
     }
    }
   }
  }
 },
 "nbformat": 4,
 "nbformat_minor": 5
}
